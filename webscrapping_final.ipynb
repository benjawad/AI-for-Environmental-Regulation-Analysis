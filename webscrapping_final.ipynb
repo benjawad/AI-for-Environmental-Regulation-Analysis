{
  "metadata": {
    "kernelspec": {
      "language": "python",
      "display_name": "Python 3",
      "name": "python3"
    },
    "language_info": {
      "name": "python",
      "version": "3.11.13",
      "mimetype": "text/x-python",
      "codemirror_mode": {
        "name": "ipython",
        "version": 3
      },
      "pygments_lexer": "ipython3",
      "nbconvert_exporter": "python",
      "file_extension": ".py"
    },
    "kaggle": {
      "accelerator": "gpu",
      "dataSources": [],
      "dockerImageVersionId": 31089,
      "isInternetEnabled": true,
      "language": "python",
      "sourceType": "notebook",
      "isGpuEnabled": true
    },
    "colab": {
      "name": "webscrapping_final",
      "provenance": [],
      "include_colab_link": true
    }
  },
  "nbformat_minor": 0,
  "nbformat": 4,
  "cells": [
    {
      "cell_type": "markdown",
      "metadata": {
        "id": "view-in-github",
        "colab_type": "text"
      },
      "source": [
        "<a href=\"https://colab.research.google.com/github/benjawad/AI-for-Environmental-Regulation-Analysis/blob/main/webscrapping_final.ipynb\" target=\"_parent\"><img src=\"https://colab.research.google.com/assets/colab-badge.svg\" alt=\"Open In Colab\"/></a>"
      ]
    },
    {
      "cell_type": "code",
      "source": [
        "# This Python 3 environment comes with many helpful analytics libraries installed\n",
        "# It is defined by the kaggle/python Docker image: https://github.com/kaggle/docker-python\n",
        "# For example, here's several helpful packages to load\n",
        "\n",
        "import numpy as np # linear algebra\n",
        "import pandas as pd # data processing, CSV file I/O (e.g. pd.read_csv)\n",
        "\n",
        "# Input data files are available in the read-only \"../input/\" directory\n",
        "# For example, running this (by clicking run or pressing Shift+Enter) will list all files under the input directory\n",
        "\n",
        "import os\n",
        "for dirname, _, filenames in os.walk('/kaggle/input'):\n",
        "    for filename in filenames:\n",
        "        print(os.path.join(dirname, filename))\n",
        "\n",
        "# You can write up to 20GB to the current directory (/kaggle/working/) that gets preserved as output when you create a version using \"Save & Run All\"\n",
        "# You can also write temporary files to /kaggle/temp/, but they won't be saved outside of the current session"
      ],
      "metadata": {
        "_uuid": "8f2839f25d086af736a60e9eeb907d3b93b6e0e5",
        "_cell_guid": "b1076dfc-b9ad-4769-8c92-a6c4dae69d19",
        "trusted": true,
        "execution": {
          "iopub.status.busy": "2025-07-27T14:32:52.261967Z",
          "iopub.execute_input": "2025-07-27T14:32:52.262218Z",
          "iopub.status.idle": "2025-07-27T14:32:54.083172Z",
          "shell.execute_reply.started": "2025-07-27T14:32:52.262194Z",
          "shell.execute_reply": "2025-07-27T14:32:54.082383Z"
        },
        "id": "Lyiej1chhOdq"
      },
      "outputs": [],
      "execution_count": null
    },
    {
      "cell_type": "markdown",
      "source": [
        "# requirements"
      ],
      "metadata": {
        "id": "YFSw5nZJhOdr"
      }
    },
    {
      "cell_type": "code",
      "source": [
        "!pip install selenium webdriver-manager beautifulsoup4 requests pymupdf\n",
        "# Mise à jour critique des dépendances\n",
        "!pip install -U bitsandbytes==0.43.1\n",
        "!pip install -q langchain==0.2.1 langchain-community==0.2.1 faiss-cpu==1.8.0 sentence-transformers==3.0.0 pypdf==4.2.0 accelerate==0.30.1 transformers==4.41.2\n",
        "!pip install pdfplumber transformers accelerate langchain huggingface_hub --upgrade\n",
        "!pip install selenium webdriver-manager beautifulsoup4 requests pymupdf  playwright  chromium\n",
        "!pip install -U langchain langchain-community huggingface_hub pdfplumber transformers accelerate\n"
      ],
      "metadata": {
        "trusted": true,
        "execution": {
          "iopub.status.busy": "2025-07-27T14:33:12.038013Z",
          "iopub.execute_input": "2025-07-27T14:33:12.038706Z",
          "iopub.status.idle": "2025-07-27T14:35:27.727883Z",
          "shell.execute_reply.started": "2025-07-27T14:33:12.038683Z",
          "shell.execute_reply": "2025-07-27T14:35:27.727147Z"
        },
        "id": "g0tbyxQchOds",
        "outputId": "75de180a-4716-4d3a-d52e-e013a70d32a7"
      },
      "outputs": [
        {
          "name": "stdout",
          "text": "Collecting selenium\n  Downloading selenium-4.34.2-py3-none-any.whl.metadata (7.5 kB)\nCollecting webdriver-manager\n  Downloading webdriver_manager-4.0.2-py2.py3-none-any.whl.metadata (12 kB)\nRequirement already satisfied: beautifulsoup4 in /usr/local/lib/python3.11/dist-packages (4.13.4)\nRequirement already satisfied: requests in /usr/local/lib/python3.11/dist-packages (2.32.4)\nCollecting pymupdf\n  Downloading pymupdf-1.26.3-cp39-abi3-manylinux_2_28_x86_64.whl.metadata (3.4 kB)\nRequirement already satisfied: urllib3~=2.5.0 in /usr/local/lib/python3.11/dist-packages (from urllib3[socks]~=2.5.0->selenium) (2.5.0)\nCollecting trio~=0.30.0 (from selenium)\n  Downloading trio-0.30.0-py3-none-any.whl.metadata (8.5 kB)\nCollecting trio-websocket~=0.12.2 (from selenium)\n  Downloading trio_websocket-0.12.2-py3-none-any.whl.metadata (5.1 kB)\nRequirement already satisfied: certifi>=2025.6.15 in /usr/local/lib/python3.11/dist-packages (from selenium) (2025.6.15)\nRequirement already satisfied: typing_extensions~=4.14.0 in /usr/local/lib/python3.11/dist-packages (from selenium) (4.14.0)\nRequirement already satisfied: websocket-client~=1.8.0 in /usr/local/lib/python3.11/dist-packages (from selenium) (1.8.0)\nCollecting python-dotenv (from webdriver-manager)\n  Downloading python_dotenv-1.1.1-py3-none-any.whl.metadata (24 kB)\nRequirement already satisfied: packaging in /usr/local/lib/python3.11/dist-packages (from webdriver-manager) (25.0)\nRequirement already satisfied: soupsieve>1.2 in /usr/local/lib/python3.11/dist-packages (from beautifulsoup4) (2.7)\nRequirement already satisfied: charset_normalizer<4,>=2 in /usr/local/lib/python3.11/dist-packages (from requests) (3.4.2)\nRequirement already satisfied: idna<4,>=2.5 in /usr/local/lib/python3.11/dist-packages (from requests) (3.10)\nRequirement already satisfied: attrs>=23.2.0 in /usr/local/lib/python3.11/dist-packages (from trio~=0.30.0->selenium) (25.3.0)\nRequirement already satisfied: sortedcontainers in /usr/local/lib/python3.11/dist-packages (from trio~=0.30.0->selenium) (2.4.0)\nCollecting outcome (from trio~=0.30.0->selenium)\n  Downloading outcome-1.3.0.post0-py2.py3-none-any.whl.metadata (2.6 kB)\nRequirement already satisfied: sniffio>=1.3.0 in /usr/local/lib/python3.11/dist-packages (from trio~=0.30.0->selenium) (1.3.1)\nCollecting wsproto>=0.14 (from trio-websocket~=0.12.2->selenium)\n  Downloading wsproto-1.2.0-py3-none-any.whl.metadata (5.6 kB)\nRequirement already satisfied: pysocks!=1.5.7,<2.0,>=1.5.6 in /usr/local/lib/python3.11/dist-packages (from urllib3[socks]~=2.5.0->selenium) (1.7.1)\nRequirement already satisfied: h11<1,>=0.9.0 in /usr/local/lib/python3.11/dist-packages (from wsproto>=0.14->trio-websocket~=0.12.2->selenium) (0.16.0)\nDownloading selenium-4.34.2-py3-none-any.whl (9.4 MB)\n\u001b[2K   \u001b[90m━━━━━━━━━━━━━━━━━━━━━━━━━━━━━━━━━━━━━━━━\u001b[0m \u001b[32m9.4/9.4 MB\u001b[0m \u001b[31m65.8 MB/s\u001b[0m eta \u001b[36m0:00:00\u001b[0m00:01\u001b[0m00:01\u001b[0m\n\u001b[?25hDownloading webdriver_manager-4.0.2-py2.py3-none-any.whl (27 kB)\nDownloading pymupdf-1.26.3-cp39-abi3-manylinux_2_28_x86_64.whl (24.1 MB)\n\u001b[2K   \u001b[90m━━━━━━━━━━━━━━━━━━━━━━━━━━━━━━━━━━━━━━━━\u001b[0m \u001b[32m24.1/24.1 MB\u001b[0m \u001b[31m82.0 MB/s\u001b[0m eta \u001b[36m0:00:00\u001b[0m:00:01\u001b[0m00:01\u001b[0m\n\u001b[?25hDownloading trio-0.30.0-py3-none-any.whl (499 kB)\n\u001b[2K   \u001b[90m━━━━━━━━━━━━━━━━━━━━━━━━━━━━━━━━━━━━━━━━\u001b[0m \u001b[32m499.2/499.2 kB\u001b[0m \u001b[31m28.3 MB/s\u001b[0m eta \u001b[36m0:00:00\u001b[0m\n\u001b[?25hDownloading trio_websocket-0.12.2-py3-none-any.whl (21 kB)\nDownloading python_dotenv-1.1.1-py3-none-any.whl (20 kB)\nDownloading outcome-1.3.0.post0-py2.py3-none-any.whl (10 kB)\nDownloading wsproto-1.2.0-py3-none-any.whl (24 kB)\nInstalling collected packages: wsproto, python-dotenv, pymupdf, outcome, webdriver-manager, trio, trio-websocket, selenium\nSuccessfully installed outcome-1.3.0.post0 pymupdf-1.26.3 python-dotenv-1.1.1 selenium-4.34.2 trio-0.30.0 trio-websocket-0.12.2 webdriver-manager-4.0.2 wsproto-1.2.0\nCollecting bitsandbytes==0.43.1\n  Downloading bitsandbytes-0.43.1-py3-none-manylinux_2_24_x86_64.whl.metadata (2.2 kB)\nRequirement already satisfied: torch in /usr/local/lib/python3.11/dist-packages (from bitsandbytes==0.43.1) (2.6.0+cu124)\nRequirement already satisfied: numpy in /usr/local/lib/python3.11/dist-packages (from bitsandbytes==0.43.1) (1.26.4)\nRequirement already satisfied: mkl_fft in /usr/local/lib/python3.11/dist-packages (from numpy->bitsandbytes==0.43.1) (1.3.8)\nRequirement already satisfied: mkl_random in /usr/local/lib/python3.11/dist-packages (from numpy->bitsandbytes==0.43.1) (1.2.4)\nRequirement already satisfied: mkl_umath in /usr/local/lib/python3.11/dist-packages (from numpy->bitsandbytes==0.43.1) (0.1.1)\nRequirement already satisfied: mkl in /usr/local/lib/python3.11/dist-packages (from numpy->bitsandbytes==0.43.1) (2025.2.0)\nRequirement already satisfied: tbb4py in /usr/local/lib/python3.11/dist-packages (from numpy->bitsandbytes==0.43.1) (2022.2.0)\nRequirement already satisfied: mkl-service in /usr/local/lib/python3.11/dist-packages (from numpy->bitsandbytes==0.43.1) (2.4.1)\nRequirement already satisfied: filelock in /usr/local/lib/python3.11/dist-packages (from torch->bitsandbytes==0.43.1) (3.18.0)\nRequirement already satisfied: typing-extensions>=4.10.0 in /usr/local/lib/python3.11/dist-packages (from torch->bitsandbytes==0.43.1) (4.14.0)\nRequirement already satisfied: networkx in /usr/local/lib/python3.11/dist-packages (from torch->bitsandbytes==0.43.1) (3.5)\nRequirement already satisfied: jinja2 in /usr/local/lib/python3.11/dist-packages (from torch->bitsandbytes==0.43.1) (3.1.6)\nRequirement already satisfied: fsspec in /usr/local/lib/python3.11/dist-packages (from torch->bitsandbytes==0.43.1) (2025.5.1)\nCollecting nvidia-cuda-nvrtc-cu12==12.4.127 (from torch->bitsandbytes==0.43.1)\n  Downloading nvidia_cuda_nvrtc_cu12-12.4.127-py3-none-manylinux2014_x86_64.whl.metadata (1.5 kB)\nCollecting nvidia-cuda-runtime-cu12==12.4.127 (from torch->bitsandbytes==0.43.1)\n  Downloading nvidia_cuda_runtime_cu12-12.4.127-py3-none-manylinux2014_x86_64.whl.metadata (1.5 kB)\nCollecting nvidia-cuda-cupti-cu12==12.4.127 (from torch->bitsandbytes==0.43.1)\n  Downloading nvidia_cuda_cupti_cu12-12.4.127-py3-none-manylinux2014_x86_64.whl.metadata (1.6 kB)\nCollecting nvidia-cudnn-cu12==9.1.0.70 (from torch->bitsandbytes==0.43.1)\n  Downloading nvidia_cudnn_cu12-9.1.0.70-py3-none-manylinux2014_x86_64.whl.metadata (1.6 kB)\nCollecting nvidia-cublas-cu12==12.4.5.8 (from torch->bitsandbytes==0.43.1)\n  Downloading nvidia_cublas_cu12-12.4.5.8-py3-none-manylinux2014_x86_64.whl.metadata (1.5 kB)\nCollecting nvidia-cufft-cu12==11.2.1.3 (from torch->bitsandbytes==0.43.1)\n  Downloading nvidia_cufft_cu12-11.2.1.3-py3-none-manylinux2014_x86_64.whl.metadata (1.5 kB)\nCollecting nvidia-curand-cu12==10.3.5.147 (from torch->bitsandbytes==0.43.1)\n  Downloading nvidia_curand_cu12-10.3.5.147-py3-none-manylinux2014_x86_64.whl.metadata (1.5 kB)\nCollecting nvidia-cusolver-cu12==11.6.1.9 (from torch->bitsandbytes==0.43.1)\n  Downloading nvidia_cusolver_cu12-11.6.1.9-py3-none-manylinux2014_x86_64.whl.metadata (1.6 kB)\nCollecting nvidia-cusparse-cu12==12.3.1.170 (from torch->bitsandbytes==0.43.1)\n  Downloading nvidia_cusparse_cu12-12.3.1.170-py3-none-manylinux2014_x86_64.whl.metadata (1.6 kB)\nRequirement already satisfied: nvidia-cusparselt-cu12==0.6.2 in /usr/local/lib/python3.11/dist-packages (from torch->bitsandbytes==0.43.1) (0.6.2)\nRequirement already satisfied: nvidia-nccl-cu12==2.21.5 in /usr/local/lib/python3.11/dist-packages (from torch->bitsandbytes==0.43.1) (2.21.5)\nRequirement already satisfied: nvidia-nvtx-cu12==12.4.127 in /usr/local/lib/python3.11/dist-packages (from torch->bitsandbytes==0.43.1) (12.4.127)\nCollecting nvidia-nvjitlink-cu12==12.4.127 (from torch->bitsandbytes==0.43.1)\n  Downloading nvidia_nvjitlink_cu12-12.4.127-py3-none-manylinux2014_x86_64.whl.metadata (1.5 kB)\nRequirement already satisfied: triton==3.2.0 in /usr/local/lib/python3.11/dist-packages (from torch->bitsandbytes==0.43.1) (3.2.0)\nRequirement already satisfied: sympy==1.13.1 in /usr/local/lib/python3.11/dist-packages (from torch->bitsandbytes==0.43.1) (1.13.1)\nRequirement already satisfied: mpmath<1.4,>=1.1.0 in /usr/local/lib/python3.11/dist-packages (from sympy==1.13.1->torch->bitsandbytes==0.43.1) (1.3.0)\nRequirement already satisfied: MarkupSafe>=2.0 in /usr/local/lib/python3.11/dist-packages (from jinja2->torch->bitsandbytes==0.43.1) (3.0.2)\nRequirement already satisfied: intel-openmp<2026,>=2024 in /usr/local/lib/python3.11/dist-packages (from mkl->numpy->bitsandbytes==0.43.1) (2024.2.0)\nRequirement already satisfied: tbb==2022.* in /usr/local/lib/python3.11/dist-packages (from mkl->numpy->bitsandbytes==0.43.1) (2022.2.0)\nRequirement already satisfied: tcmlib==1.* in /usr/local/lib/python3.11/dist-packages (from tbb==2022.*->mkl->numpy->bitsandbytes==0.43.1) (1.4.0)\nRequirement already satisfied: intel-cmplr-lib-rt in /usr/local/lib/python3.11/dist-packages (from mkl_umath->numpy->bitsandbytes==0.43.1) (2024.2.0)\nRequirement already satisfied: intel-cmplr-lib-ur==2024.2.0 in /usr/local/lib/python3.11/dist-packages (from intel-openmp<2026,>=2024->mkl->numpy->bitsandbytes==0.43.1) (2024.2.0)\nDownloading bitsandbytes-0.43.1-py3-none-manylinux_2_24_x86_64.whl (119.8 MB)\n\u001b[2K   \u001b[90m━━━━━━━━━━━━━━━━━━━━━━━━━━━━━━━━━━━━━━━━\u001b[0m \u001b[32m119.8/119.8 MB\u001b[0m \u001b[31m14.6 MB/s\u001b[0m eta \u001b[36m0:00:00\u001b[0m00:01\u001b[0m00:01\u001b[0m\n\u001b[?25hDownloading nvidia_cublas_cu12-12.4.5.8-py3-none-manylinux2014_x86_64.whl (363.4 MB)\n\u001b[2K   \u001b[90m━━━━━━━━━━━━━━━━━━━━━━━━━━━━━━━━━━━━━━━━\u001b[0m \u001b[32m363.4/363.4 MB\u001b[0m \u001b[31m4.6 MB/s\u001b[0m eta \u001b[36m0:00:00\u001b[0m:00:01\u001b[0m00:01\u001b[0m\n\u001b[?25hDownloading nvidia_cuda_cupti_cu12-12.4.127-py3-none-manylinux2014_x86_64.whl (13.8 MB)\n\u001b[2K   \u001b[90m━━━━━━━━━━━━━━━━━━━━━━━━━━━━━━━━━━━━━━━━\u001b[0m \u001b[32m13.8/13.8 MB\u001b[0m \u001b[31m67.6 MB/s\u001b[0m eta \u001b[36m0:00:00\u001b[0m:00:01\u001b[0m0:01\u001b[0m\n\u001b[?25hDownloading nvidia_cuda_nvrtc_cu12-12.4.127-py3-none-manylinux2014_x86_64.whl (24.6 MB)\n\u001b[2K   \u001b[90m━━━━━━━━━━━━━━━━━━━━━━━━━━━━━━━━━━━━━━━━\u001b[0m \u001b[32m24.6/24.6 MB\u001b[0m \u001b[31m77.2 MB/s\u001b[0m eta \u001b[36m0:00:00\u001b[0m:00:01\u001b[0m00:01\u001b[0m\n\u001b[?25hDownloading nvidia_cuda_runtime_cu12-12.4.127-py3-none-manylinux2014_x86_64.whl (883 kB)\n\u001b[2K   \u001b[90m━━━━━━━━━━━━━━━━━━━━━━━━━━━━━━━━━━━━━━━━\u001b[0m \u001b[32m883.7/883.7 kB\u001b[0m \u001b[31m41.8 MB/s\u001b[0m eta \u001b[36m0:00:00\u001b[0m\n\u001b[?25hDownloading nvidia_cudnn_cu12-9.1.0.70-py3-none-manylinux2014_x86_64.whl (664.8 MB)\n\u001b[2K   \u001b[90m━━━━━━━━━━━━━━━━━━━━━━━━━━━━━━━━━━━━━━━━\u001b[0m \u001b[32m664.8/664.8 MB\u001b[0m \u001b[31m2.6 MB/s\u001b[0m eta \u001b[36m0:00:00\u001b[0m:00:01\u001b[0m00:01\u001b[0m\n\u001b[?25hDownloading nvidia_cufft_cu12-11.2.1.3-py3-none-manylinux2014_x86_64.whl (211.5 MB)\n\u001b[2K   \u001b[90m━━━━━━━━━━━━━━━━━━━━━━━━━━━━━━━━━━━━━━━━\u001b[0m \u001b[32m211.5/211.5 MB\u001b[0m \u001b[31m8.1 MB/s\u001b[0m eta \u001b[36m0:00:00\u001b[0m:00:01\u001b[0m00:01\u001b[0m\n\u001b[?25hDownloading nvidia_curand_cu12-10.3.5.147-py3-none-manylinux2014_x86_64.whl (56.3 MB)\n\u001b[2K   \u001b[90m━━━━━━━━━━━━━━━━━━━━━━━━━━━━━━━━━━━━━━━━\u001b[0m \u001b[32m56.3/56.3 MB\u001b[0m \u001b[31m6.8 MB/s\u001b[0m eta \u001b[36m0:00:00\u001b[0m0:00:01\u001b[0m00:01\u001b[0m\n\u001b[?25hDownloading nvidia_cusolver_cu12-11.6.1.9-py3-none-manylinux2014_x86_64.whl (127.9 MB)\n\u001b[2K   \u001b[90m━━━━━━━━━━━━━━━━━━━━━━━━━━━━━━━━━━━━━━━━\u001b[0m \u001b[32m127.9/127.9 MB\u001b[0m \u001b[31m13.5 MB/s\u001b[0m eta \u001b[36m0:00:00\u001b[0m00:01\u001b[0m00:01\u001b[0m\n\u001b[?25hDownloading nvidia_cusparse_cu12-12.3.1.170-py3-none-manylinux2014_x86_64.whl (207.5 MB)\n\u001b[2K   \u001b[90m━━━━━━━━━━━━━━━━━━━━━━━━━━━━━━━━━━━━━━━━\u001b[0m \u001b[32m207.5/207.5 MB\u001b[0m \u001b[31m8.3 MB/s\u001b[0m eta \u001b[36m0:00:00\u001b[0m:00:01\u001b[0m00:01\u001b[0m\n\u001b[?25hDownloading nvidia_nvjitlink_cu12-12.4.127-py3-none-manylinux2014_x86_64.whl (21.1 MB)\n\u001b[2K   \u001b[90m━━━━━━━━━━━━━━━━━━━━━━━━━━━━━━━━━━━━━━━━\u001b[0m \u001b[32m21.1/21.1 MB\u001b[0m \u001b[31m87.0 MB/s\u001b[0m eta \u001b[36m0:00:00\u001b[0m:00:01\u001b[0m00:01\u001b[0m\n\u001b[?25hInstalling collected packages: nvidia-nvjitlink-cu12, nvidia-curand-cu12, nvidia-cufft-cu12, nvidia-cuda-runtime-cu12, nvidia-cuda-nvrtc-cu12, nvidia-cuda-cupti-cu12, nvidia-cublas-cu12, nvidia-cusparse-cu12, nvidia-cudnn-cu12, nvidia-cusolver-cu12, bitsandbytes\n  Attempting uninstall: nvidia-nvjitlink-cu12\n    Found existing installation: nvidia-nvjitlink-cu12 12.5.82\n    Uninstalling nvidia-nvjitlink-cu12-12.5.82:\n      Successfully uninstalled nvidia-nvjitlink-cu12-12.5.82\n  Attempting uninstall: nvidia-curand-cu12\n    Found existing installation: nvidia-curand-cu12 10.3.6.82\n    Uninstalling nvidia-curand-cu12-10.3.6.82:\n      Successfully uninstalled nvidia-curand-cu12-10.3.6.82\n  Attempting uninstall: nvidia-cufft-cu12\n    Found existing installation: nvidia-cufft-cu12 11.2.3.61\n    Uninstalling nvidia-cufft-cu12-11.2.3.61:\n      Successfully uninstalled nvidia-cufft-cu12-11.2.3.61\n  Attempting uninstall: nvidia-cuda-runtime-cu12\n    Found existing installation: nvidia-cuda-runtime-cu12 12.5.82\n    Uninstalling nvidia-cuda-runtime-cu12-12.5.82:\n      Successfully uninstalled nvidia-cuda-runtime-cu12-12.5.82\n  Attempting uninstall: nvidia-cuda-nvrtc-cu12\n    Found existing installation: nvidia-cuda-nvrtc-cu12 12.5.82\n    Uninstalling nvidia-cuda-nvrtc-cu12-12.5.82:\n      Successfully uninstalled nvidia-cuda-nvrtc-cu12-12.5.82\n  Attempting uninstall: nvidia-cuda-cupti-cu12\n    Found existing installation: nvidia-cuda-cupti-cu12 12.5.82\n    Uninstalling nvidia-cuda-cupti-cu12-12.5.82:\n      Successfully uninstalled nvidia-cuda-cupti-cu12-12.5.82\n  Attempting uninstall: nvidia-cublas-cu12\n    Found existing installation: nvidia-cublas-cu12 12.5.3.2\n    Uninstalling nvidia-cublas-cu12-12.5.3.2:\n      Successfully uninstalled nvidia-cublas-cu12-12.5.3.2\n  Attempting uninstall: nvidia-cusparse-cu12\n    Found existing installation: nvidia-cusparse-cu12 12.5.1.3\n    Uninstalling nvidia-cusparse-cu12-12.5.1.3:\n      Successfully uninstalled nvidia-cusparse-cu12-12.5.1.3\n  Attempting uninstall: nvidia-cudnn-cu12\n    Found existing installation: nvidia-cudnn-cu12 9.3.0.75\n    Uninstalling nvidia-cudnn-cu12-9.3.0.75:\n      Successfully uninstalled nvidia-cudnn-cu12-9.3.0.75\n  Attempting uninstall: nvidia-cusolver-cu12\n    Found existing installation: nvidia-cusolver-cu12 11.6.3.83\n    Uninstalling nvidia-cusolver-cu12-11.6.3.83:\n      Successfully uninstalled nvidia-cusolver-cu12-11.6.3.83\nSuccessfully installed bitsandbytes-0.43.1 nvidia-cublas-cu12-12.4.5.8 nvidia-cuda-cupti-cu12-12.4.127 nvidia-cuda-nvrtc-cu12-12.4.127 nvidia-cuda-runtime-cu12-12.4.127 nvidia-cudnn-cu12-9.1.0.70 nvidia-cufft-cu12-11.2.1.3 nvidia-curand-cu12-10.3.5.147 nvidia-cusolver-cu12-11.6.1.9 nvidia-cusparse-cu12-12.3.1.170 nvidia-nvjitlink-cu12-12.4.127\n\u001b[2K     \u001b[90m━━━━━━━━━━━━━━━━━━━━━━━━━━━━━━━━━━━━━━━━\u001b[0m \u001b[32m43.8/43.8 kB\u001b[0m \u001b[31m26.9 kB/s\u001b[0m eta \u001b[36m0:00:00\u001b[0m \u001b[36m0:00:01\u001b[0m\n\u001b[2K   \u001b[90m━━━━━━━━━━━━━━━━━━━━━━━━━━━━━━━━━━━━━━━━\u001b[0m \u001b[32m973.5/973.5 kB\u001b[0m \u001b[31m16.6 MB/s\u001b[0m eta \u001b[36m0:00:00\u001b[0ma \u001b[36m0:00:01\u001b[0m\n\u001b[2K   \u001b[90m━━━━━━━━━━━━━━━━━━━━━━━━━━━━━━━━━━━━━━━━\u001b[0m \u001b[32m2.1/2.1 MB\u001b[0m \u001b[31m59.5 MB/s\u001b[0m eta \u001b[36m0:00:00\u001b[0m:00:01\u001b[0m\n\u001b[2K   \u001b[90m━━━━━━━━━━━━━━━━━━━━━━━━━━━━━━━━━━━━━━━━\u001b[0m \u001b[32m27.0/27.0 MB\u001b[0m \u001b[31m71.1 MB/s\u001b[0m eta \u001b[36m0:00:00\u001b[0m:00:01\u001b[0m00:01\u001b[0m\n\u001b[2K   \u001b[90m━━━━━━━━━━━━━━━━━━━━━━━━━━━━━━━━━━━━━━━━\u001b[0m \u001b[32m224.7/224.7 kB\u001b[0m \u001b[31m12.5 MB/s\u001b[0m eta \u001b[36m0:00:00\u001b[0m\n\u001b[2K   \u001b[90m━━━━━━━━━━━━━━━━━━━━━━━━━━━━━━━━━━━━━━━━\u001b[0m \u001b[32m290.4/290.4 kB\u001b[0m \u001b[31m16.8 MB/s\u001b[0m eta \u001b[36m0:00:00\u001b[0m\n\u001b[2K   \u001b[90m━━━━━━━━━━━━━━━━━━━━━━━━━━━━━━━━━━━━━━━━\u001b[0m \u001b[32m302.6/302.6 kB\u001b[0m \u001b[31m18.6 MB/s\u001b[0m eta \u001b[36m0:00:00\u001b[0m\n\u001b[2K   \u001b[90m━━━━━━━━━━━━━━━━━━━━━━━━━━━━━━━━━━━━━━━━\u001b[0m \u001b[32m9.1/9.1 MB\u001b[0m \u001b[31m111.5 MB/s\u001b[0m eta \u001b[36m0:00:00\u001b[0m00:01\u001b[0m00:01\u001b[0m\n\u001b[2K   \u001b[90m━━━━━━━━━━━━━━━━━━━━━━━━━━━━━━━━━━━━━━━━\u001b[0m \u001b[32m397.1/397.1 kB\u001b[0m \u001b[31m22.6 MB/s\u001b[0m eta \u001b[36m0:00:00\u001b[0m\n\u001b[2K   \u001b[90m━━━━━━━━━━━━━━━━━━━━━━━━━━━━━━━━━━━━━━━━\u001b[0m \u001b[32m311.8/311.8 kB\u001b[0m \u001b[31m19.5 MB/s\u001b[0m eta \u001b[36m0:00:00\u001b[0m\n\u001b[2K   \u001b[90m━━━━━━━━━━━━━━━━━━━━━━━━━━━━━━━━━━━━━━━━\u001b[0m \u001b[32m65.5/65.5 kB\u001b[0m \u001b[31m4.5 MB/s\u001b[0m eta \u001b[36m0:00:00\u001b[0m\n\u001b[2K   \u001b[90m━━━━━━━━━━━━━━━━━━━━━━━━━━━━━━━━━━━━━━━━\u001b[0m \u001b[32m3.6/3.6 MB\u001b[0m \u001b[31m84.2 MB/s\u001b[0m eta \u001b[36m0:00:00\u001b[0m:00:01\u001b[0m\n\u001b[?25h\u001b[31mERROR: pip's dependency resolver does not currently take into account all the packages that are installed. This behaviour is the source of the following dependency conflicts.\nbigframes 2.8.0 requires google-cloud-bigquery-storage<3.0.0,>=2.30.0, which is not installed.\ndatasets 3.6.0 requires fsspec[http]<=2025.3.0,>=2023.1.0, but you have fsspec 2025.5.1 which is incompatible.\ncesium 0.12.4 requires numpy<3.0,>=2.0, but you have numpy 1.26.4 which is incompatible.\npandas-gbq 0.29.1 requires google-api-core<3.0.0,>=2.10.2, but you have google-api-core 1.34.1 which is incompatible.\nthinc 8.3.6 requires numpy<3.0.0,>=2.0.0, but you have numpy 1.26.4 which is incompatible.\nplotnine 0.14.5 requires matplotlib>=3.8.0, but you have matplotlib 3.7.2 which is incompatible.\ndataproc-spark-connect 0.7.5 requires google-api-core>=2.19, but you have google-api-core 1.34.1 which is incompatible.\nbigframes 2.8.0 requires google-cloud-bigquery[bqstorage,pandas]>=3.31.0, but you have google-cloud-bigquery 3.25.0 which is incompatible.\nbigframes 2.8.0 requires rich<14,>=12.4.4, but you have rich 14.0.0 which is incompatible.\nmlxtend 0.23.4 requires scikit-learn>=1.3.1, but you have scikit-learn 1.2.2 which is incompatible.\u001b[0m\u001b[31m\n\u001b[0mCollecting pdfplumber\n  Downloading pdfplumber-0.11.7-py3-none-any.whl.metadata (42 kB)\n\u001b[2K     \u001b[90m━━━━━━━━━━━━━━━━━━━━━━━━━━━━━━━━━━━━━━━━\u001b[0m \u001b[32m42.8/42.8 kB\u001b[0m \u001b[31m1.4 MB/s\u001b[0m eta \u001b[36m0:00:00\u001b[0m\n\u001b[?25hRequirement already satisfied: transformers in /usr/local/lib/python3.11/dist-packages (4.41.2)\nCollecting transformers\n  Downloading transformers-4.54.0-py3-none-any.whl.metadata (41 kB)\n\u001b[2K     \u001b[90m━━━━━━━━━━━━━━━━━━━━━━━━━━━━━━━━━━━━━━━━\u001b[0m \u001b[32m41.7/41.7 kB\u001b[0m \u001b[31m2.2 MB/s\u001b[0m eta \u001b[36m0:00:00\u001b[0m\n\u001b[?25hRequirement already satisfied: accelerate in /usr/local/lib/python3.11/dist-packages (0.30.1)\nCollecting accelerate\n  Downloading accelerate-1.9.0-py3-none-any.whl.metadata (19 kB)\nRequirement already satisfied: langchain in /usr/local/lib/python3.11/dist-packages (0.2.1)\nCollecting langchain\n  Downloading langchain-0.3.27-py3-none-any.whl.metadata (7.8 kB)\nRequirement already satisfied: huggingface_hub in /usr/local/lib/python3.11/dist-packages (0.33.1)\nCollecting huggingface_hub\n  Downloading huggingface_hub-0.34.1-py3-none-any.whl.metadata (14 kB)\nCollecting pdfminer.six==20250506 (from pdfplumber)\n  Downloading pdfminer_six-20250506-py3-none-any.whl.metadata (4.2 kB)\nRequirement already satisfied: Pillow>=9.1 in /usr/local/lib/python3.11/dist-packages (from pdfplumber) (11.2.1)\nCollecting pypdfium2>=4.18.0 (from pdfplumber)\n  Downloading pypdfium2-4.30.0-py3-none-manylinux_2_17_x86_64.manylinux2014_x86_64.whl.metadata (48 kB)\n\u001b[2K     \u001b[90m━━━━━━━━━━━━━━━━━━━━━━━━━━━━━━━━━━━━━━━━\u001b[0m \u001b[32m48.5/48.5 kB\u001b[0m \u001b[31m3.3 MB/s\u001b[0m eta \u001b[36m0:00:00\u001b[0m\n\u001b[?25hRequirement already satisfied: charset-normalizer>=2.0.0 in /usr/local/lib/python3.11/dist-packages (from pdfminer.six==20250506->pdfplumber) (3.4.2)\nRequirement already satisfied: cryptography>=36.0.0 in /usr/local/lib/python3.11/dist-packages (from pdfminer.six==20250506->pdfplumber) (44.0.3)\nRequirement already satisfied: filelock in /usr/local/lib/python3.11/dist-packages (from transformers) (3.18.0)\nRequirement already satisfied: numpy>=1.17 in /usr/local/lib/python3.11/dist-packages (from transformers) (1.26.4)\nRequirement already satisfied: packaging>=20.0 in /usr/local/lib/python3.11/dist-packages (from transformers) (24.2)\nRequirement already satisfied: pyyaml>=5.1 in /usr/local/lib/python3.11/dist-packages (from transformers) (6.0.2)\nRequirement already satisfied: regex!=2019.12.17 in /usr/local/lib/python3.11/dist-packages (from transformers) (2024.11.6)\nRequirement already satisfied: requests in /usr/local/lib/python3.11/dist-packages (from transformers) (2.32.4)\nCollecting tokenizers<0.22,>=0.21 (from transformers)\n  Downloading tokenizers-0.21.2-cp39-abi3-manylinux_2_17_x86_64.manylinux2014_x86_64.whl.metadata (6.8 kB)\nRequirement already satisfied: safetensors>=0.4.3 in /usr/local/lib/python3.11/dist-packages (from transformers) (0.5.3)\nRequirement already satisfied: tqdm>=4.27 in /usr/local/lib/python3.11/dist-packages (from transformers) (4.67.1)\nRequirement already satisfied: psutil in /usr/local/lib/python3.11/dist-packages (from accelerate) (7.0.0)\nRequirement already satisfied: torch>=2.0.0 in /usr/local/lib/python3.11/dist-packages (from accelerate) (2.6.0+cu124)\nCollecting langchain-core<1.0.0,>=0.3.72 (from langchain)\n  Downloading langchain_core-0.3.72-py3-none-any.whl.metadata (5.8 kB)\nCollecting langchain-text-splitters<1.0.0,>=0.3.9 (from langchain)\n  Downloading langchain_text_splitters-0.3.9-py3-none-any.whl.metadata (1.9 kB)\nRequirement already satisfied: langsmith>=0.1.17 in /usr/local/lib/python3.11/dist-packages (from langchain) (0.1.147)\nRequirement already satisfied: pydantic<3.0.0,>=2.7.4 in /usr/local/lib/python3.11/dist-packages (from langchain) (2.11.7)\nRequirement already satisfied: SQLAlchemy<3,>=1.4 in /usr/local/lib/python3.11/dist-packages (from langchain) (2.0.41)\nRequirement already satisfied: fsspec>=2023.5.0 in /usr/local/lib/python3.11/dist-packages (from huggingface_hub) (2025.5.1)\nRequirement already satisfied: typing-extensions>=3.7.4.3 in /usr/local/lib/python3.11/dist-packages (from huggingface_hub) (4.14.0)\nRequirement already satisfied: hf-xet<2.0.0,>=1.1.3 in /usr/local/lib/python3.11/dist-packages (from huggingface_hub) (1.1.5)\nCollecting langsmith>=0.1.17 (from langchain)\n  Downloading langsmith-0.4.8-py3-none-any.whl.metadata (15 kB)\nRequirement already satisfied: tenacity!=8.4.0,<10.0.0,>=8.1.0 in /usr/local/lib/python3.11/dist-packages (from langchain-core<1.0.0,>=0.3.72->langchain) (8.5.0)\nRequirement already satisfied: jsonpatch<2.0,>=1.33 in /usr/local/lib/python3.11/dist-packages (from langchain-core<1.0.0,>=0.3.72->langchain) (1.33)\nRequirement already satisfied: httpx<1,>=0.23.0 in /usr/local/lib/python3.11/dist-packages (from langsmith>=0.1.17->langchain) (0.28.1)\nRequirement already satisfied: orjson<4.0.0,>=3.9.14 in /usr/local/lib/python3.11/dist-packages (from langsmith>=0.1.17->langchain) (3.10.18)\nRequirement already satisfied: requests-toolbelt<2.0.0,>=1.0.0 in /usr/local/lib/python3.11/dist-packages (from langsmith>=0.1.17->langchain) (1.0.0)\nRequirement already satisfied: zstandard<0.24.0,>=0.23.0 in /usr/local/lib/python3.11/dist-packages (from langsmith>=0.1.17->langchain) (0.23.0)\nRequirement already satisfied: mkl_fft in /usr/local/lib/python3.11/dist-packages (from numpy>=1.17->transformers) (1.3.8)\nRequirement already satisfied: mkl_random in /usr/local/lib/python3.11/dist-packages (from numpy>=1.17->transformers) (1.2.4)\nRequirement already satisfied: mkl_umath in /usr/local/lib/python3.11/dist-packages (from numpy>=1.17->transformers) (0.1.1)\nRequirement already satisfied: mkl in /usr/local/lib/python3.11/dist-packages (from numpy>=1.17->transformers) (2025.2.0)\nRequirement already satisfied: tbb4py in /usr/local/lib/python3.11/dist-packages (from numpy>=1.17->transformers) (2022.2.0)\nRequirement already satisfied: mkl-service in /usr/local/lib/python3.11/dist-packages (from numpy>=1.17->transformers) (2.4.1)\nRequirement already satisfied: annotated-types>=0.6.0 in /usr/local/lib/python3.11/dist-packages (from pydantic<3.0.0,>=2.7.4->langchain) (0.7.0)\nRequirement already satisfied: pydantic-core==2.33.2 in /usr/local/lib/python3.11/dist-packages (from pydantic<3.0.0,>=2.7.4->langchain) (2.33.2)\nRequirement already satisfied: typing-inspection>=0.4.0 in /usr/local/lib/python3.11/dist-packages (from pydantic<3.0.0,>=2.7.4->langchain) (0.4.1)\nRequirement already satisfied: idna<4,>=2.5 in /usr/local/lib/python3.11/dist-packages (from requests->transformers) (3.10)\nRequirement already satisfied: urllib3<3,>=1.21.1 in /usr/local/lib/python3.11/dist-packages (from requests->transformers) (2.5.0)\nRequirement already satisfied: certifi>=2017.4.17 in /usr/local/lib/python3.11/dist-packages (from requests->transformers) (2025.6.15)\nRequirement already satisfied: greenlet>=1 in /usr/local/lib/python3.11/dist-packages (from SQLAlchemy<3,>=1.4->langchain) (3.2.3)\nRequirement already satisfied: networkx in /usr/local/lib/python3.11/dist-packages (from torch>=2.0.0->accelerate) (3.5)\nRequirement already satisfied: jinja2 in /usr/local/lib/python3.11/dist-packages (from torch>=2.0.0->accelerate) (3.1.6)\nRequirement already satisfied: nvidia-cuda-nvrtc-cu12==12.4.127 in /usr/local/lib/python3.11/dist-packages (from torch>=2.0.0->accelerate) (12.4.127)\nRequirement already satisfied: nvidia-cuda-runtime-cu12==12.4.127 in /usr/local/lib/python3.11/dist-packages (from torch>=2.0.0->accelerate) (12.4.127)\nRequirement already satisfied: nvidia-cuda-cupti-cu12==12.4.127 in /usr/local/lib/python3.11/dist-packages (from torch>=2.0.0->accelerate) (12.4.127)\nRequirement already satisfied: nvidia-cudnn-cu12==9.1.0.70 in /usr/local/lib/python3.11/dist-packages (from torch>=2.0.0->accelerate) (9.1.0.70)\nRequirement already satisfied: nvidia-cublas-cu12==12.4.5.8 in /usr/local/lib/python3.11/dist-packages (from torch>=2.0.0->accelerate) (12.4.5.8)\nRequirement already satisfied: nvidia-cufft-cu12==11.2.1.3 in /usr/local/lib/python3.11/dist-packages (from torch>=2.0.0->accelerate) (11.2.1.3)\nRequirement already satisfied: nvidia-curand-cu12==10.3.5.147 in /usr/local/lib/python3.11/dist-packages (from torch>=2.0.0->accelerate) (10.3.5.147)\nRequirement already satisfied: nvidia-cusolver-cu12==11.6.1.9 in /usr/local/lib/python3.11/dist-packages (from torch>=2.0.0->accelerate) (11.6.1.9)\nRequirement already satisfied: nvidia-cusparse-cu12==12.3.1.170 in /usr/local/lib/python3.11/dist-packages (from torch>=2.0.0->accelerate) (12.3.1.170)\nRequirement already satisfied: nvidia-cusparselt-cu12==0.6.2 in /usr/local/lib/python3.11/dist-packages (from torch>=2.0.0->accelerate) (0.6.2)\nRequirement already satisfied: nvidia-nccl-cu12==2.21.5 in /usr/local/lib/python3.11/dist-packages (from torch>=2.0.0->accelerate) (2.21.5)\nRequirement already satisfied: nvidia-nvtx-cu12==12.4.127 in /usr/local/lib/python3.11/dist-packages (from torch>=2.0.0->accelerate) (12.4.127)\nRequirement already satisfied: nvidia-nvjitlink-cu12==12.4.127 in /usr/local/lib/python3.11/dist-packages (from torch>=2.0.0->accelerate) (12.4.127)\nRequirement already satisfied: triton==3.2.0 in /usr/local/lib/python3.11/dist-packages (from torch>=2.0.0->accelerate) (3.2.0)\nRequirement already satisfied: sympy==1.13.1 in /usr/local/lib/python3.11/dist-packages (from torch>=2.0.0->accelerate) (1.13.1)\nRequirement already satisfied: mpmath<1.4,>=1.1.0 in /usr/local/lib/python3.11/dist-packages (from sympy==1.13.1->torch>=2.0.0->accelerate) (1.3.0)\nRequirement already satisfied: cffi>=1.12 in /usr/local/lib/python3.11/dist-packages (from cryptography>=36.0.0->pdfminer.six==20250506->pdfplumber) (1.17.1)\nRequirement already satisfied: anyio in /usr/local/lib/python3.11/dist-packages (from httpx<1,>=0.23.0->langsmith>=0.1.17->langchain) (4.9.0)\nRequirement already satisfied: httpcore==1.* in /usr/local/lib/python3.11/dist-packages (from httpx<1,>=0.23.0->langsmith>=0.1.17->langchain) (1.0.9)\nRequirement already satisfied: h11>=0.16 in /usr/local/lib/python3.11/dist-packages (from httpcore==1.*->httpx<1,>=0.23.0->langsmith>=0.1.17->langchain) (0.16.0)\nRequirement already satisfied: jsonpointer>=1.9 in /usr/local/lib/python3.11/dist-packages (from jsonpatch<2.0,>=1.33->langchain-core<1.0.0,>=0.3.72->langchain) (3.0.0)\nRequirement already satisfied: MarkupSafe>=2.0 in /usr/local/lib/python3.11/dist-packages (from jinja2->torch>=2.0.0->accelerate) (3.0.2)\nRequirement already satisfied: intel-openmp<2026,>=2024 in /usr/local/lib/python3.11/dist-packages (from mkl->numpy>=1.17->transformers) (2024.2.0)\nRequirement already satisfied: tbb==2022.* in /usr/local/lib/python3.11/dist-packages (from mkl->numpy>=1.17->transformers) (2022.2.0)\nRequirement already satisfied: tcmlib==1.* in /usr/local/lib/python3.11/dist-packages (from tbb==2022.*->mkl->numpy>=1.17->transformers) (1.4.0)\nRequirement already satisfied: intel-cmplr-lib-rt in /usr/local/lib/python3.11/dist-packages (from mkl_umath->numpy>=1.17->transformers) (2024.2.0)\nRequirement already satisfied: pycparser in /usr/local/lib/python3.11/dist-packages (from cffi>=1.12->cryptography>=36.0.0->pdfminer.six==20250506->pdfplumber) (2.22)\nRequirement already satisfied: intel-cmplr-lib-ur==2024.2.0 in /usr/local/lib/python3.11/dist-packages (from intel-openmp<2026,>=2024->mkl->numpy>=1.17->transformers) (2024.2.0)\nRequirement already satisfied: sniffio>=1.1 in /usr/local/lib/python3.11/dist-packages (from anyio->httpx<1,>=0.23.0->langsmith>=0.1.17->langchain) (1.3.1)\nDownloading pdfplumber-0.11.7-py3-none-any.whl (60 kB)\n\u001b[2K   \u001b[90m━━━━━━━━━━━━━━━━━━━━━━━━━━━━━━━━━━━━━━━━\u001b[0m \u001b[32m60.0/60.0 kB\u001b[0m \u001b[31m3.5 MB/s\u001b[0m eta \u001b[36m0:00:00\u001b[0m\n\u001b[?25hDownloading pdfminer_six-20250506-py3-none-any.whl (5.6 MB)\n\u001b[2K   \u001b[90m━━━━━━━━━━━━━━━━━━━━━━━━━━━━━━━━━━━━━━━━\u001b[0m \u001b[32m5.6/5.6 MB\u001b[0m \u001b[31m52.2 MB/s\u001b[0m eta \u001b[36m0:00:00\u001b[0m00:01\u001b[0m00:01\u001b[0m\n\u001b[?25hDownloading transformers-4.54.0-py3-none-any.whl (11.2 MB)\n\u001b[2K   \u001b[90m━━━━━━━━━━━━━━━━━━━━━━━━━━━━━━━━━━━━━━━━\u001b[0m \u001b[32m11.2/11.2 MB\u001b[0m \u001b[31m90.1 MB/s\u001b[0m eta \u001b[36m0:00:00\u001b[0m:00:01\u001b[0m0:01\u001b[0m\n\u001b[?25hDownloading accelerate-1.9.0-py3-none-any.whl (367 kB)\n\u001b[2K   \u001b[90m━━━━━━━━━━━━━━━━━━━━━━━━━━━━━━━━━━━━━━━━\u001b[0m \u001b[32m367.1/367.1 kB\u001b[0m \u001b[31m13.9 MB/s\u001b[0m eta \u001b[36m0:00:00\u001b[0m\n\u001b[?25hDownloading langchain-0.3.27-py3-none-any.whl (1.0 MB)\n\u001b[2K   \u001b[90m━━━━━━━━━━━━━━━━━━━━━━━━━━━━━━━━━━━━━━━━\u001b[0m \u001b[32m1.0/1.0 MB\u001b[0m \u001b[31m35.8 MB/s\u001b[0m eta \u001b[36m0:00:00\u001b[0m\n\u001b[?25hDownloading huggingface_hub-0.34.1-py3-none-any.whl (558 kB)\n\u001b[2K   \u001b[90m━━━━━━━━━━━━━━━━━━━━━━━━━━━━━━━━━━━━━━━━\u001b[0m \u001b[32m558.8/558.8 kB\u001b[0m \u001b[31m33.4 MB/s\u001b[0m eta \u001b[36m0:00:00\u001b[0m\n\u001b[?25hDownloading langchain_core-0.3.72-py3-none-any.whl (442 kB)\n\u001b[2K   \u001b[90m━━━━━━━━━━━━━━━━━━━━━━━━━━━━━━━━━━━━━━━━\u001b[0m \u001b[32m442.8/442.8 kB\u001b[0m \u001b[31m25.3 MB/s\u001b[0m eta \u001b[36m0:00:00\u001b[0m\n\u001b[?25hDownloading langchain_text_splitters-0.3.9-py3-none-any.whl (33 kB)\nDownloading langsmith-0.4.8-py3-none-any.whl (367 kB)\n\u001b[2K   \u001b[90m━━━━━━━━━━━━━━━━━━━━━━━━━━━━━━━━━━━━━━━━\u001b[0m \u001b[32m368.0/368.0 kB\u001b[0m \u001b[31m21.0 MB/s\u001b[0m eta \u001b[36m0:00:00\u001b[0m\n\u001b[?25hDownloading pypdfium2-4.30.0-py3-none-manylinux_2_17_x86_64.manylinux2014_x86_64.whl (2.8 MB)\n\u001b[2K   \u001b[90m━━━━━━━━━━━━━━━━━━━━━━━━━━━━━━━━━━━━━━━━\u001b[0m \u001b[32m2.8/2.8 MB\u001b[0m \u001b[31m70.6 MB/s\u001b[0m eta \u001b[36m0:00:00\u001b[0m:00:01\u001b[0m\n\u001b[?25hDownloading tokenizers-0.21.2-cp39-abi3-manylinux_2_17_x86_64.manylinux2014_x86_64.whl (3.1 MB)\n\u001b[2K   \u001b[90m━━━━━━━━━━━━━━━━━━━━━━━━━━━━━━━━━━━━━━━━\u001b[0m \u001b[32m3.1/3.1 MB\u001b[0m \u001b[31m79.3 MB/s\u001b[0m eta \u001b[36m0:00:00\u001b[0m:00:01\u001b[0m\n\u001b[?25hInstalling collected packages: pypdfium2, huggingface_hub, tokenizers, pdfminer.six, langsmith, pdfplumber, langchain-core, langchain-text-splitters, langchain, transformers, accelerate\n  Attempting uninstall: huggingface_hub\n    Found existing installation: huggingface-hub 0.33.1\n    Uninstalling huggingface-hub-0.33.1:\n      Successfully uninstalled huggingface-hub-0.33.1\n  Attempting uninstall: tokenizers\n    Found existing installation: tokenizers 0.19.1\n    Uninstalling tokenizers-0.19.1:\n      Successfully uninstalled tokenizers-0.19.1\n  Attempting uninstall: langsmith\n    Found existing installation: langsmith 0.1.147\n    Uninstalling langsmith-0.1.147:\n      Successfully uninstalled langsmith-0.1.147\n  Attempting uninstall: langchain-core\n    Found existing installation: langchain-core 0.2.43\n    Uninstalling langchain-core-0.2.43:\n      Successfully uninstalled langchain-core-0.2.43\n  Attempting uninstall: langchain-text-splitters\n    Found existing installation: langchain-text-splitters 0.2.4\n    Uninstalling langchain-text-splitters-0.2.4:\n      Successfully uninstalled langchain-text-splitters-0.2.4\n  Attempting uninstall: langchain\n    Found existing installation: langchain 0.2.1\n    Uninstalling langchain-0.2.1:\n      Successfully uninstalled langchain-0.2.1\n  Attempting uninstall: transformers\n    Found existing installation: transformers 4.41.2\n    Uninstalling transformers-4.41.2:\n      Successfully uninstalled transformers-4.41.2\n  Attempting uninstall: accelerate\n    Found existing installation: accelerate 0.30.1\n    Uninstalling accelerate-0.30.1:\n      Successfully uninstalled accelerate-0.30.1\n\u001b[31mERROR: pip's dependency resolver does not currently take into account all the packages that are installed. This behaviour is the source of the following dependency conflicts.\nlangchain-community 0.2.1 requires langchain<0.3.0,>=0.2.0, but you have langchain 0.3.27 which is incompatible.\nlangchain-community 0.2.1 requires langchain-core<0.3.0,>=0.2.0, but you have langchain-core 0.3.72 which is incompatible.\nlangchain-community 0.2.1 requires langsmith<0.2.0,>=0.1.0, but you have langsmith 0.4.8 which is incompatible.\ndatasets 3.6.0 requires fsspec[http]<=2025.3.0,>=2023.1.0, but you have fsspec 2025.5.1 which is incompatible.\u001b[0m\u001b[31m\n\u001b[0mSuccessfully installed accelerate-1.9.0 huggingface_hub-0.34.1 langchain-0.3.27 langchain-core-0.3.72 langchain-text-splitters-0.3.9 langsmith-0.4.8 pdfminer.six-20250506 pdfplumber-0.11.7 pypdfium2-4.30.0 tokenizers-0.21.2 transformers-4.54.0\nRequirement already satisfied: selenium in /usr/local/lib/python3.11/dist-packages (4.34.2)\nRequirement already satisfied: webdriver-manager in /usr/local/lib/python3.11/dist-packages (4.0.2)\nRequirement already satisfied: beautifulsoup4 in /usr/local/lib/python3.11/dist-packages (4.13.4)\nRequirement already satisfied: requests in /usr/local/lib/python3.11/dist-packages (2.32.4)\nRequirement already satisfied: pymupdf in /usr/local/lib/python3.11/dist-packages (1.26.3)\nCollecting playwright\n  Downloading playwright-1.54.0-py3-none-manylinux1_x86_64.whl.metadata (3.5 kB)\nCollecting chromium\n  Downloading chromium-0.0.0-py3-none-any.whl.metadata (615 bytes)\nRequirement already satisfied: urllib3~=2.5.0 in /usr/local/lib/python3.11/dist-packages (from urllib3[socks]~=2.5.0->selenium) (2.5.0)\nRequirement already satisfied: trio~=0.30.0 in /usr/local/lib/python3.11/dist-packages (from selenium) (0.30.0)\nRequirement already satisfied: trio-websocket~=0.12.2 in /usr/local/lib/python3.11/dist-packages (from selenium) (0.12.2)\nRequirement already satisfied: certifi>=2025.6.15 in /usr/local/lib/python3.11/dist-packages (from selenium) (2025.6.15)\nRequirement already satisfied: typing_extensions~=4.14.0 in /usr/local/lib/python3.11/dist-packages (from selenium) (4.14.0)\nRequirement already satisfied: websocket-client~=1.8.0 in /usr/local/lib/python3.11/dist-packages (from selenium) (1.8.0)\nRequirement already satisfied: python-dotenv in /usr/local/lib/python3.11/dist-packages (from webdriver-manager) (1.1.1)\nRequirement already satisfied: packaging in /usr/local/lib/python3.11/dist-packages (from webdriver-manager) (24.2)\nRequirement already satisfied: soupsieve>1.2 in /usr/local/lib/python3.11/dist-packages (from beautifulsoup4) (2.7)\nRequirement already satisfied: charset_normalizer<4,>=2 in /usr/local/lib/python3.11/dist-packages (from requests) (3.4.2)\nRequirement already satisfied: idna<4,>=2.5 in /usr/local/lib/python3.11/dist-packages (from requests) (3.10)\nCollecting pyee<14,>=13 (from playwright)\n  Downloading pyee-13.0.0-py3-none-any.whl.metadata (2.9 kB)\nRequirement already satisfied: greenlet<4.0.0,>=3.1.1 in /usr/local/lib/python3.11/dist-packages (from playwright) (3.2.3)\nRequirement already satisfied: attrs>=23.2.0 in /usr/local/lib/python3.11/dist-packages (from trio~=0.30.0->selenium) (25.3.0)\nRequirement already satisfied: sortedcontainers in /usr/local/lib/python3.11/dist-packages (from trio~=0.30.0->selenium) (2.4.0)\nRequirement already satisfied: outcome in /usr/local/lib/python3.11/dist-packages (from trio~=0.30.0->selenium) (1.3.0.post0)\nRequirement already satisfied: sniffio>=1.3.0 in /usr/local/lib/python3.11/dist-packages (from trio~=0.30.0->selenium) (1.3.1)\nRequirement already satisfied: wsproto>=0.14 in /usr/local/lib/python3.11/dist-packages (from trio-websocket~=0.12.2->selenium) (1.2.0)\nRequirement already satisfied: pysocks!=1.5.7,<2.0,>=1.5.6 in /usr/local/lib/python3.11/dist-packages (from urllib3[socks]~=2.5.0->selenium) (1.7.1)\nRequirement already satisfied: h11<1,>=0.9.0 in /usr/local/lib/python3.11/dist-packages (from wsproto>=0.14->trio-websocket~=0.12.2->selenium) (0.16.0)\nDownloading playwright-1.54.0-py3-none-manylinux1_x86_64.whl (45.9 MB)\n\u001b[2K   \u001b[90m━━━━━━━━━━━━━━━━━━━━━━━━━━━━━━━━━━━━━━━━\u001b[0m \u001b[32m45.9/45.9 MB\u001b[0m \u001b[31m37.9 MB/s\u001b[0m eta \u001b[36m0:00:00\u001b[0m:00:01\u001b[0m00:01\u001b[0m\n\u001b[?25hDownloading chromium-0.0.0-py3-none-any.whl (2.4 kB)\nDownloading pyee-13.0.0-py3-none-any.whl (15 kB)\nInstalling collected packages: pyee, chromium, playwright\nSuccessfully installed chromium-0.0.0 playwright-1.54.0 pyee-13.0.0\nRequirement already satisfied: langchain in /usr/local/lib/python3.11/dist-packages (0.3.27)\nRequirement already satisfied: langchain-community in /usr/local/lib/python3.11/dist-packages (0.2.1)\nCollecting langchain-community\n  Downloading langchain_community-0.3.27-py3-none-any.whl.metadata (2.9 kB)\nRequirement already satisfied: huggingface_hub in /usr/local/lib/python3.11/dist-packages (0.34.1)\nRequirement already satisfied: pdfplumber in /usr/local/lib/python3.11/dist-packages (0.11.7)\nRequirement already satisfied: transformers in /usr/local/lib/python3.11/dist-packages (4.54.0)\nRequirement already satisfied: accelerate in /usr/local/lib/python3.11/dist-packages (1.9.0)\nRequirement already satisfied: langchain-core<1.0.0,>=0.3.72 in /usr/local/lib/python3.11/dist-packages (from langchain) (0.3.72)\nRequirement already satisfied: langchain-text-splitters<1.0.0,>=0.3.9 in /usr/local/lib/python3.11/dist-packages (from langchain) (0.3.9)\nRequirement already satisfied: langsmith>=0.1.17 in /usr/local/lib/python3.11/dist-packages (from langchain) (0.4.8)\nRequirement already satisfied: pydantic<3.0.0,>=2.7.4 in /usr/local/lib/python3.11/dist-packages (from langchain) (2.11.7)\nRequirement already satisfied: SQLAlchemy<3,>=1.4 in /usr/local/lib/python3.11/dist-packages (from langchain) (2.0.41)\nRequirement already satisfied: requests<3,>=2 in /usr/local/lib/python3.11/dist-packages (from langchain) (2.32.4)\nRequirement already satisfied: PyYAML>=5.3 in /usr/local/lib/python3.11/dist-packages (from langchain) (6.0.2)\nRequirement already satisfied: aiohttp<4.0.0,>=3.8.3 in /usr/local/lib/python3.11/dist-packages (from langchain-community) (3.12.13)\nRequirement already satisfied: tenacity!=8.4.0,<10,>=8.1.0 in /usr/local/lib/python3.11/dist-packages (from langchain-community) (8.5.0)\nRequirement already satisfied: dataclasses-json<0.7,>=0.5.7 in /usr/local/lib/python3.11/dist-packages (from langchain-community) (0.6.7)\nCollecting pydantic-settings<3.0.0,>=2.4.0 (from langchain-community)\n  Downloading pydantic_settings-2.10.1-py3-none-any.whl.metadata (3.4 kB)\nCollecting httpx-sse<1.0.0,>=0.4.0 (from langchain-community)\n  Downloading httpx_sse-0.4.1-py3-none-any.whl.metadata (9.4 kB)\nRequirement already satisfied: numpy>=1.26.2 in /usr/local/lib/python3.11/dist-packages (from langchain-community) (1.26.4)\nRequirement already satisfied: filelock in /usr/local/lib/python3.11/dist-packages (from huggingface_hub) (3.18.0)\nRequirement already satisfied: fsspec>=2023.5.0 in /usr/local/lib/python3.11/dist-packages (from huggingface_hub) (2025.5.1)\nRequirement already satisfied: packaging>=20.9 in /usr/local/lib/python3.11/dist-packages (from huggingface_hub) (24.2)\nRequirement already satisfied: tqdm>=4.42.1 in /usr/local/lib/python3.11/dist-packages (from huggingface_hub) (4.67.1)\nRequirement already satisfied: typing-extensions>=3.7.4.3 in /usr/local/lib/python3.11/dist-packages (from huggingface_hub) (4.14.0)\nRequirement already satisfied: hf-xet<2.0.0,>=1.1.3 in /usr/local/lib/python3.11/dist-packages (from huggingface_hub) (1.1.5)\nRequirement already satisfied: pdfminer.six==20250506 in /usr/local/lib/python3.11/dist-packages (from pdfplumber) (20250506)\nRequirement already satisfied: Pillow>=9.1 in /usr/local/lib/python3.11/dist-packages (from pdfplumber) (11.2.1)\nRequirement already satisfied: pypdfium2>=4.18.0 in /usr/local/lib/python3.11/dist-packages (from pdfplumber) (4.30.0)\nRequirement already satisfied: charset-normalizer>=2.0.0 in /usr/local/lib/python3.11/dist-packages (from pdfminer.six==20250506->pdfplumber) (3.4.2)\nRequirement already satisfied: cryptography>=36.0.0 in /usr/local/lib/python3.11/dist-packages (from pdfminer.six==20250506->pdfplumber) (44.0.3)\nRequirement already satisfied: regex!=2019.12.17 in /usr/local/lib/python3.11/dist-packages (from transformers) (2024.11.6)\nRequirement already satisfied: tokenizers<0.22,>=0.21 in /usr/local/lib/python3.11/dist-packages (from transformers) (0.21.2)\nRequirement already satisfied: safetensors>=0.4.3 in /usr/local/lib/python3.11/dist-packages (from transformers) (0.5.3)\nRequirement already satisfied: psutil in /usr/local/lib/python3.11/dist-packages (from accelerate) (7.0.0)\nRequirement already satisfied: torch>=2.0.0 in /usr/local/lib/python3.11/dist-packages (from accelerate) (2.6.0+cu124)\nRequirement already satisfied: aiohappyeyeballs>=2.5.0 in /usr/local/lib/python3.11/dist-packages (from aiohttp<4.0.0,>=3.8.3->langchain-community) (2.6.1)\nRequirement already satisfied: aiosignal>=1.1.2 in /usr/local/lib/python3.11/dist-packages (from aiohttp<4.0.0,>=3.8.3->langchain-community) (1.3.2)\nRequirement already satisfied: attrs>=17.3.0 in /usr/local/lib/python3.11/dist-packages (from aiohttp<4.0.0,>=3.8.3->langchain-community) (25.3.0)\nRequirement already satisfied: frozenlist>=1.1.1 in /usr/local/lib/python3.11/dist-packages (from aiohttp<4.0.0,>=3.8.3->langchain-community) (1.7.0)\nRequirement already satisfied: multidict<7.0,>=4.5 in /usr/local/lib/python3.11/dist-packages (from aiohttp<4.0.0,>=3.8.3->langchain-community) (6.6.3)\nRequirement already satisfied: propcache>=0.2.0 in /usr/local/lib/python3.11/dist-packages (from aiohttp<4.0.0,>=3.8.3->langchain-community) (0.3.2)\nRequirement already satisfied: yarl<2.0,>=1.17.0 in /usr/local/lib/python3.11/dist-packages (from aiohttp<4.0.0,>=3.8.3->langchain-community) (1.20.1)\nRequirement already satisfied: marshmallow<4.0.0,>=3.18.0 in /usr/local/lib/python3.11/dist-packages (from dataclasses-json<0.7,>=0.5.7->langchain-community) (3.26.1)\nRequirement already satisfied: typing-inspect<1,>=0.4.0 in /usr/local/lib/python3.11/dist-packages (from dataclasses-json<0.7,>=0.5.7->langchain-community) (0.9.0)\nRequirement already satisfied: jsonpatch<2.0,>=1.33 in /usr/local/lib/python3.11/dist-packages (from langchain-core<1.0.0,>=0.3.72->langchain) (1.33)\nRequirement already satisfied: httpx<1,>=0.23.0 in /usr/local/lib/python3.11/dist-packages (from langsmith>=0.1.17->langchain) (0.28.1)\nRequirement already satisfied: orjson<4.0.0,>=3.9.14 in /usr/local/lib/python3.11/dist-packages (from langsmith>=0.1.17->langchain) (3.10.18)\nRequirement already satisfied: requests-toolbelt<2.0.0,>=1.0.0 in /usr/local/lib/python3.11/dist-packages (from langsmith>=0.1.17->langchain) (1.0.0)\nRequirement already satisfied: zstandard<0.24.0,>=0.23.0 in /usr/local/lib/python3.11/dist-packages (from langsmith>=0.1.17->langchain) (0.23.0)\nRequirement already satisfied: mkl_fft in /usr/local/lib/python3.11/dist-packages (from numpy>=1.26.2->langchain-community) (1.3.8)\nRequirement already satisfied: mkl_random in /usr/local/lib/python3.11/dist-packages (from numpy>=1.26.2->langchain-community) (1.2.4)\nRequirement already satisfied: mkl_umath in /usr/local/lib/python3.11/dist-packages (from numpy>=1.26.2->langchain-community) (0.1.1)\nRequirement already satisfied: mkl in /usr/local/lib/python3.11/dist-packages (from numpy>=1.26.2->langchain-community) (2025.2.0)\nRequirement already satisfied: tbb4py in /usr/local/lib/python3.11/dist-packages (from numpy>=1.26.2->langchain-community) (2022.2.0)\nRequirement already satisfied: mkl-service in /usr/local/lib/python3.11/dist-packages (from numpy>=1.26.2->langchain-community) (2.4.1)\nRequirement already satisfied: annotated-types>=0.6.0 in /usr/local/lib/python3.11/dist-packages (from pydantic<3.0.0,>=2.7.4->langchain) (0.7.0)\nRequirement already satisfied: pydantic-core==2.33.2 in /usr/local/lib/python3.11/dist-packages (from pydantic<3.0.0,>=2.7.4->langchain) (2.33.2)\nRequirement already satisfied: typing-inspection>=0.4.0 in /usr/local/lib/python3.11/dist-packages (from pydantic<3.0.0,>=2.7.4->langchain) (0.4.1)\nRequirement already satisfied: python-dotenv>=0.21.0 in /usr/local/lib/python3.11/dist-packages (from pydantic-settings<3.0.0,>=2.4.0->langchain-community) (1.1.1)\nRequirement already satisfied: idna<4,>=2.5 in /usr/local/lib/python3.11/dist-packages (from requests<3,>=2->langchain) (3.10)\nRequirement already satisfied: urllib3<3,>=1.21.1 in /usr/local/lib/python3.11/dist-packages (from requests<3,>=2->langchain) (2.5.0)\nRequirement already satisfied: certifi>=2017.4.17 in /usr/local/lib/python3.11/dist-packages (from requests<3,>=2->langchain) (2025.6.15)\nRequirement already satisfied: greenlet>=1 in /usr/local/lib/python3.11/dist-packages (from SQLAlchemy<3,>=1.4->langchain) (3.2.3)\nRequirement already satisfied: networkx in /usr/local/lib/python3.11/dist-packages (from torch>=2.0.0->accelerate) (3.5)\nRequirement already satisfied: jinja2 in /usr/local/lib/python3.11/dist-packages (from torch>=2.0.0->accelerate) (3.1.6)\nRequirement already satisfied: nvidia-cuda-nvrtc-cu12==12.4.127 in /usr/local/lib/python3.11/dist-packages (from torch>=2.0.0->accelerate) (12.4.127)\nRequirement already satisfied: nvidia-cuda-runtime-cu12==12.4.127 in /usr/local/lib/python3.11/dist-packages (from torch>=2.0.0->accelerate) (12.4.127)\nRequirement already satisfied: nvidia-cuda-cupti-cu12==12.4.127 in /usr/local/lib/python3.11/dist-packages (from torch>=2.0.0->accelerate) (12.4.127)\nRequirement already satisfied: nvidia-cudnn-cu12==9.1.0.70 in /usr/local/lib/python3.11/dist-packages (from torch>=2.0.0->accelerate) (9.1.0.70)\nRequirement already satisfied: nvidia-cublas-cu12==12.4.5.8 in /usr/local/lib/python3.11/dist-packages (from torch>=2.0.0->accelerate) (12.4.5.8)\nRequirement already satisfied: nvidia-cufft-cu12==11.2.1.3 in /usr/local/lib/python3.11/dist-packages (from torch>=2.0.0->accelerate) (11.2.1.3)\nRequirement already satisfied: nvidia-curand-cu12==10.3.5.147 in /usr/local/lib/python3.11/dist-packages (from torch>=2.0.0->accelerate) (10.3.5.147)\nRequirement already satisfied: nvidia-cusolver-cu12==11.6.1.9 in /usr/local/lib/python3.11/dist-packages (from torch>=2.0.0->accelerate) (11.6.1.9)\nRequirement already satisfied: nvidia-cusparse-cu12==12.3.1.170 in /usr/local/lib/python3.11/dist-packages (from torch>=2.0.0->accelerate) (12.3.1.170)\nRequirement already satisfied: nvidia-cusparselt-cu12==0.6.2 in /usr/local/lib/python3.11/dist-packages (from torch>=2.0.0->accelerate) (0.6.2)\nRequirement already satisfied: nvidia-nccl-cu12==2.21.5 in /usr/local/lib/python3.11/dist-packages (from torch>=2.0.0->accelerate) (2.21.5)\nRequirement already satisfied: nvidia-nvtx-cu12==12.4.127 in /usr/local/lib/python3.11/dist-packages (from torch>=2.0.0->accelerate) (12.4.127)\nRequirement already satisfied: nvidia-nvjitlink-cu12==12.4.127 in /usr/local/lib/python3.11/dist-packages (from torch>=2.0.0->accelerate) (12.4.127)\nRequirement already satisfied: triton==3.2.0 in /usr/local/lib/python3.11/dist-packages (from torch>=2.0.0->accelerate) (3.2.0)\nRequirement already satisfied: sympy==1.13.1 in /usr/local/lib/python3.11/dist-packages (from torch>=2.0.0->accelerate) (1.13.1)\nRequirement already satisfied: mpmath<1.4,>=1.1.0 in /usr/local/lib/python3.11/dist-packages (from sympy==1.13.1->torch>=2.0.0->accelerate) (1.3.0)\nRequirement already satisfied: cffi>=1.12 in /usr/local/lib/python3.11/dist-packages (from cryptography>=36.0.0->pdfminer.six==20250506->pdfplumber) (1.17.1)\nRequirement already satisfied: anyio in /usr/local/lib/python3.11/dist-packages (from httpx<1,>=0.23.0->langsmith>=0.1.17->langchain) (4.9.0)\nRequirement already satisfied: httpcore==1.* in /usr/local/lib/python3.11/dist-packages (from httpx<1,>=0.23.0->langsmith>=0.1.17->langchain) (1.0.9)\nRequirement already satisfied: h11>=0.16 in /usr/local/lib/python3.11/dist-packages (from httpcore==1.*->httpx<1,>=0.23.0->langsmith>=0.1.17->langchain) (0.16.0)\nRequirement already satisfied: jsonpointer>=1.9 in /usr/local/lib/python3.11/dist-packages (from jsonpatch<2.0,>=1.33->langchain-core<1.0.0,>=0.3.72->langchain) (3.0.0)\nRequirement already satisfied: mypy-extensions>=0.3.0 in /usr/local/lib/python3.11/dist-packages (from typing-inspect<1,>=0.4.0->dataclasses-json<0.7,>=0.5.7->langchain-community) (1.1.0)\nRequirement already satisfied: MarkupSafe>=2.0 in /usr/local/lib/python3.11/dist-packages (from jinja2->torch>=2.0.0->accelerate) (3.0.2)\nRequirement already satisfied: intel-openmp<2026,>=2024 in /usr/local/lib/python3.11/dist-packages (from mkl->numpy>=1.26.2->langchain-community) (2024.2.0)\nRequirement already satisfied: tbb==2022.* in /usr/local/lib/python3.11/dist-packages (from mkl->numpy>=1.26.2->langchain-community) (2022.2.0)\nRequirement already satisfied: tcmlib==1.* in /usr/local/lib/python3.11/dist-packages (from tbb==2022.*->mkl->numpy>=1.26.2->langchain-community) (1.4.0)\nRequirement already satisfied: intel-cmplr-lib-rt in /usr/local/lib/python3.11/dist-packages (from mkl_umath->numpy>=1.26.2->langchain-community) (2024.2.0)\nRequirement already satisfied: pycparser in /usr/local/lib/python3.11/dist-packages (from cffi>=1.12->cryptography>=36.0.0->pdfminer.six==20250506->pdfplumber) (2.22)\nRequirement already satisfied: intel-cmplr-lib-ur==2024.2.0 in /usr/local/lib/python3.11/dist-packages (from intel-openmp<2026,>=2024->mkl->numpy>=1.26.2->langchain-community) (2024.2.0)\nRequirement already satisfied: sniffio>=1.1 in /usr/local/lib/python3.11/dist-packages (from anyio->httpx<1,>=0.23.0->langsmith>=0.1.17->langchain) (1.3.1)\nDownloading langchain_community-0.3.27-py3-none-any.whl (2.5 MB)\n\u001b[2K   \u001b[90m━━━━━━━━━━━━━━━━━━━━━━━━━━━━━━━━━━━━━━━━\u001b[0m \u001b[32m2.5/2.5 MB\u001b[0m \u001b[31m26.9 MB/s\u001b[0m eta \u001b[36m0:00:00\u001b[0ma \u001b[36m0:00:01\u001b[0m\n\u001b[?25hDownloading httpx_sse-0.4.1-py3-none-any.whl (8.1 kB)\nDownloading pydantic_settings-2.10.1-py3-none-any.whl (45 kB)\n\u001b[2K   \u001b[90m━━━━━━━━━━━━━━━━━━━━━━━━━━━━━━━━━━━━━━━━\u001b[0m \u001b[32m45.2/45.2 kB\u001b[0m \u001b[31m2.2 MB/s\u001b[0m eta \u001b[36m0:00:00\u001b[0m\n\u001b[?25hInstalling collected packages: httpx-sse, pydantic-settings, langchain-community\n  Attempting uninstall: langchain-community\n    Found existing installation: langchain-community 0.2.1\n    Uninstalling langchain-community-0.2.1:\n      Successfully uninstalled langchain-community-0.2.1\nSuccessfully installed httpx-sse-0.4.1 langchain-community-0.3.27 pydantic-settings-2.10.1\n",
          "output_type": "stream"
        }
      ],
      "execution_count": null
    },
    {
      "cell_type": "code",
      "source": [
        "!playwright install > /dev/null 2>&1"
      ],
      "metadata": {
        "trusted": true,
        "execution": {
          "iopub.status.busy": "2025-07-27T14:35:27.72938Z",
          "iopub.execute_input": "2025-07-27T14:35:27.729768Z",
          "iopub.status.idle": "2025-07-27T14:35:44.389656Z",
          "shell.execute_reply.started": "2025-07-27T14:35:27.729743Z",
          "shell.execute_reply": "2025-07-27T14:35:44.388562Z"
        },
        "id": "-vG-zKllhOdt"
      },
      "outputs": [],
      "execution_count": null
    },
    {
      "cell_type": "markdown",
      "source": [
        "# importante libaries"
      ],
      "metadata": {
        "id": "cJox2ZWIhOdt"
      }
    },
    {
      "cell_type": "code",
      "source": [],
      "metadata": {
        "trusted": true,
        "id": "yS8j3gy8hOdu"
      },
      "outputs": [],
      "execution_count": null
    },
    {
      "cell_type": "markdown",
      "source": [
        "# scrapping"
      ],
      "metadata": {
        "id": "fvVof3uZhOdu"
      }
    },
    {
      "cell_type": "code",
      "source": [
        "import asyncio\n",
        "from bs4 import BeautifulSoup\n",
        "from urllib.parse import urljoin\n",
        "from playwright.async_api import async_playwright\n",
        "\n",
        "BASE_URL = \"https://www.sgg.gov.ma/BulletinOfficiel.aspx\"\n",
        "pdf_links = set()\n",
        "MAX_PAGES = 4\n",
        "\n",
        "async def extract_pdfs_from_frame(frame):\n",
        "    content = await frame.content()\n",
        "    soup = BeautifulSoup(content, \"html.parser\")\n",
        "    new_links = set()\n",
        "\n",
        "    for a in soup.find_all(\"a\", href=True):\n",
        "        href = a[\"href\"]\n",
        "        if href.lower().endswith(\".pdf\"):\n",
        "            full_link = urljoin(BASE_URL, href)\n",
        "            new_links.add(full_link)\n",
        "\n",
        "    return new_links\n",
        "\n",
        "async def run():\n",
        "    async with async_playwright() as p:\n",
        "        browser = await p.chromium.launch(headless=True)\n",
        "        page = await browser.new_page()\n",
        "        await page.goto(BASE_URL)\n",
        "        await page.wait_for_load_state(\"networkidle\")\n",
        "\n",
        "        # Find and switch to content iframe\n",
        "        frame = None\n",
        "        for f in page.frames:\n",
        "            if \"BulletinOfficiel\" in f.url:\n",
        "                frame = f\n",
        "                break\n",
        "\n",
        "        if not frame:\n",
        "            print(\"⚠️ Content frame not found! Using main frame\")\n",
        "            frame = page.main_frame\n",
        "\n",
        "        current_page = 1\n",
        "        previous_links = set()\n",
        "\n",
        "        while current_page <= MAX_PAGES:\n",
        "            print(f\"📄 Scraping page {current_page}...\")\n",
        "\n",
        "            # Extract PDF links\n",
        "            new_links = await extract_pdfs_from_frame(frame)\n",
        "            new_count = len(new_links - pdf_links)\n",
        "            pdf_links.update(new_links)\n",
        "            print(f\"   ➕ Found {new_count} new PDFs (Total: {len(pdf_links)})\")\n",
        "\n",
        "            # Check for duplicate content (end of pages)\n",
        "            if new_links and new_links == previous_links:\n",
        "                print(\"🛑 Duplicate content detected - stopping pagination\")\n",
        "                break\n",
        "            previous_links = new_links\n",
        "\n",
        "            # Find next button by text\n",
        "            next_buttons = await frame.query_selector_all(\"a\")\n",
        "            next_button = None\n",
        "\n",
        "            for btn in next_buttons:\n",
        "                text = await btn.text_content()\n",
        "                if text and \"Suivant\" in text.strip():\n",
        "                    next_button = btn\n",
        "                    break\n",
        "\n",
        "            if not next_button:\n",
        "                print(\"⏹️ Next button not found - stopping pagination\")\n",
        "                break\n",
        "\n",
        "            # Click next button and wait\n",
        "            await next_button.click()\n",
        "            await asyncio.sleep(2)  # Allow time for content load\n",
        "            current_page += 1\n",
        "\n",
        "        await browser.close()\n",
        "        print(f\"\\n✅ Scraping completed. Total unique PDFs: {len(pdf_links)}\")\n",
        "        for link in sorted(pdf_links):\n",
        "            print(link)\n",
        "\n",
        "await run()\n"
      ],
      "metadata": {
        "trusted": true,
        "execution": {
          "iopub.status.busy": "2025-07-27T14:41:12.211533Z",
          "iopub.execute_input": "2025-07-27T14:41:12.21233Z",
          "iopub.status.idle": "2025-07-27T14:41:28.748548Z",
          "shell.execute_reply.started": "2025-07-27T14:41:12.212302Z",
          "shell.execute_reply": "2025-07-27T14:41:28.747908Z"
        },
        "id": "DCXl6lL_hOdu",
        "outputId": "abc1f883-a49c-4a2f-8bbe-e46db1e2fff1"
      },
      "outputs": [
        {
          "name": "stdout",
          "text": "📄 Scraping page 1...\n   ➕ Found 20 new PDFs (Total: 20)\n📄 Scraping page 2...\n   ➕ Found 10 new PDFs (Total: 30)\n📄 Scraping page 3...\n   ➕ Found 10 new PDFs (Total: 40)\n📄 Scraping page 4...\n   ➕ Found 10 new PDFs (Total: 50)\n\n✅ Scraping completed. Total unique PDFs: 50\nhttps://www.sgg.gov.ma/BO/FR/2873/2022/ECI_11_Fr.pdf\nhttps://www.sgg.gov.ma/BO/FR/2873/2022/ECI_12_Fr.pdf\nhttps://www.sgg.gov.ma/BO/FR/2873/2022/ECI_13_Fr.pdf\nhttps://www.sgg.gov.ma/BO/FR/2873/2022/ECI_14_Fr.pdf\nhttps://www.sgg.gov.ma/BO/FR/2873/2023/ECI_15_Fr.pdf\nhttps://www.sgg.gov.ma/BO/FR/2873/2023/ECI_16_Fr.pdf\nhttps://www.sgg.gov.ma/BO/FR/2873/2023/ECI_17_Fr.pdf\nhttps://www.sgg.gov.ma/BO/FR/2873/2023/ECI_18_Fr.pdf\nhttps://www.sgg.gov.ma/BO/FR/2873/2024/BO_7274_Fr.pdf\nhttps://www.sgg.gov.ma/BO/FR/2873/2024/BO_7280_Fr.pdf\nhttps://www.sgg.gov.ma/BO/FR/2873/2024/BO_7284_Fr.pdf\nhttps://www.sgg.gov.ma/BO/FR/2873/2024/BO_7288_fr.pdf\nhttps://www.sgg.gov.ma/BO/FR/2873/2024/BO_7292_fr.pdf\nhttps://www.sgg.gov.ma/BO/FR/2873/2024/BO_7296_fr.pdf\nhttps://www.sgg.gov.ma/BO/FR/2873/2024/BO_7300_fr.pdf\nhttps://www.sgg.gov.ma/BO/FR/2873/2024/BO_7305-bis_fr.pdf\nhttps://www.sgg.gov.ma/BO/FR/2873/2024/BO_7306_fr.pdf\nhttps://www.sgg.gov.ma/BO/FR/2873/2024/BO_7310_fr.pdf\nhttps://www.sgg.gov.ma/BO/FR/2873/2024/BO_7314_Fr.pdf\nhttps://www.sgg.gov.ma/BO/FR/2873/2024/BO_7318_fr.pdf\nhttps://www.sgg.gov.ma/BO/FR/2873/2024/BO_7322_fr.pdf\nhttps://www.sgg.gov.ma/BO/FR/2873/2024/BO_7326_fr.pdf\nhttps://www.sgg.gov.ma/BO/FR/2873/2024/BO_7332_fr.pdf\nhttps://www.sgg.gov.ma/BO/FR/2873/2024/BO_7336_fr.pdf\nhttps://www.sgg.gov.ma/BO/FR/2873/2024/BO_7340_fr.pdf\nhttps://www.sgg.gov.ma/BO/FR/2873/2024/BO_7342-bis_fr.pdf\nhttps://www.sgg.gov.ma/BO/FR/2873/2024/BO_7344-bis_fr.pdf\nhttps://www.sgg.gov.ma/BO/FR/2873/2024/BO_7344_fr.pdf\nhttps://www.sgg.gov.ma/BO/FR/2873/2024/BO_7348-bis_fr.pdf\nhttps://www.sgg.gov.ma/BO/FR/2873/2024/BO_7350_fr.pdf\nhttps://www.sgg.gov.ma/BO/FR/2873/2024/BO_7354_fr.pdf\nhttps://www.sgg.gov.ma/BO/FR/2873/2024/BO_7355-bis_fr.pdf\nhttps://www.sgg.gov.ma/BO/FR/2873/2024/BO_7358_fr.pdf\nhttps://www.sgg.gov.ma/BO/FR/2873/2024/BO_7362_fr.pdf\nhttps://www.sgg.gov.ma/BO/FR/2873/2024/ECI_19_Fr.pdf\nhttps://www.sgg.gov.ma/BO/FR/2873/2024/ECI_20_Fr.pdf\nhttps://www.sgg.gov.ma/BO/FR/2873/2025/BO_7366_fr.pdf\nhttps://www.sgg.gov.ma/BO/FR/2873/2025/BO_7370_fr.pdf\nhttps://www.sgg.gov.ma/BO/FR/2873/2025/BO_7376_fr.pdf\nhttps://www.sgg.gov.ma/BO/FR/2873/2025/BO_7380_fr.pdf\nhttps://www.sgg.gov.ma/BO/FR/2873/2025/BO_7384_fr.pdf\nhttps://www.sgg.gov.ma/BO/FR/2873/2025/BO_7388_Fr.pdf\nhttps://www.sgg.gov.ma/BO/FR/2873/2025/BO_7392_Fr.pdf\nhttps://www.sgg.gov.ma/BO/FR/2873/2025/BO_7396_Fr.pdf\nhttps://www.sgg.gov.ma/BO/FR/2873/2025/BO_7400_Fr.pdf\nhttps://www.sgg.gov.ma/BO/FR/2873/2025/BO_7404_fr.pdf\nhttps://www.sgg.gov.ma/BO/FR/2873/2025/BO_7407-bis_Fr.pdf\nhttps://www.sgg.gov.ma/BO/FR/2873/2025/BO_7410_fr.pdf\nhttps://www.sgg.gov.ma/BO/FR/2873/2025/BO_7414_fr.pdf\nhttps://www.sgg.gov.ma/BO/FR/2873/2025/BO_7418_fr.pdf\n",
          "output_type": "stream"
        }
      ],
      "execution_count": null
    },
    {
      "cell_type": "code",
      "source": [
        "import os\n",
        "import fitz\n",
        "import requests\n",
        "\n",
        "os.makedirs(\"/pdfs\", exist_ok=True)\n",
        "pdf_texts = []\n",
        "for url in pdf_links:\n",
        "    filename = os.path.basename(url)\n",
        "    path = os.path.join(\"/pdfs\", filename)\n",
        "\n",
        "    try:\n",
        "        r = requests.get(url)\n",
        "        with open(path, \"wb\") as f:\n",
        "            f.write(r.content)\n",
        "\n",
        "        doc = fitz.open(path)\n",
        "        text = \"\"\n",
        "        for page in doc:\n",
        "            text += page.get_text()\n",
        "        pdf_texts.append((filename, text[:1000]))\n",
        "    except Exception as e:\n",
        "        print(f\"❌ Failed on {filename}: {e}\")\n",
        "\n",
        "# Preview sample content\n",
        "pdf_names = []\n",
        "for name, content in pdf_texts[:2]:\n",
        "    print(f\"\\n📄 {name}\\n{'-'*40}\\n{content}\")\n",
        "\n"
      ],
      "metadata": {
        "trusted": true,
        "execution": {
          "iopub.status.busy": "2025-07-27T14:41:28.749388Z",
          "iopub.execute_input": "2025-07-27T14:41:28.749654Z",
          "iopub.status.idle": "2025-07-27T14:43:39.27662Z",
          "shell.execute_reply.started": "2025-07-27T14:41:28.749625Z",
          "shell.execute_reply": "2025-07-27T14:43:39.27591Z"
        },
        "id": "wZ0aABKVhOdv",
        "outputId": "3aa3be31-b54f-4fd4-a5b9-123193516116"
      },
      "outputs": [
        {
          "name": "stdout",
          "text": "\n📄 BO_7336_fr.pdf\n----------------------------------------\nPages\nPages\n{\nROYAUME DU MAROC\nBULLETIN OFFICIEL\nEDITION DE TRADUCTION OFFICIELLE\nEDITIONS\nTARIFS D’ABONNEMENT\nABONNEMENT\nIMPRIMERIE OFFICIELLE\nRabat - Chellah\nTél. : 05.37.76.50.24 ‑ 05.37.76.50.25\n05.37.76.54.13\nCompte n° :\n310 810 1014029004423101 33\nouvert à la Trésorerie Préfectorale de Rabat \nau nom du régisseur des recettes \nde l’Imprimerie officielle\nAU MAROC\nA L’ETRANGER\n6 mois\n1 an\nEdition générale...................................................................\nEdition de traduction officielle.............................................\nEdition des conventions internationales................................\nEdition des annonces légales, judiciaires et administratives...\nEdition des annonces relatives à l’immatriculation foncière..\n250 DH\n150 DH\n150 DH\n250 DH\n250 DH\n400 DH\n200 DH\n200 DH\n300 DH\n300 DH\nA destination de l’étranger, \npar voies ordinaire, aérienne \nou de la poste rapide interna‑\ntionale, les tarifs prévus ci-\ncontre sont majorés des frais \nd’envoi, tels qu’ils \n\n📄 BO_7305-bis_fr.pdf\n----------------------------------------\n{\nROYAUME DU MAROC\nBULLETIN OFFICIEL\nEDITION DE TRADUCTION OFFICIELLE\nEDITIONS\nTARIFS D’ABONNEMENT\nABONNEMENT\nIMPRIMERIE OFFICIELLE\nRabat - Chellah\nTél. : 05.37.76.50.24 ‑ 05.37.76.50.25\n05.37.76.54.13\nCompte n° :\n310 810 1014029004423101 33\nouvert à la Trésorerie Préfectorale de Rabat\nau nom du régisseur des recettes\nde l’Imprimerie officielle\nAU MAROC\nA L’ETRANGER\n6 mois\n1 an\nEdition générale...................................................................\nEdition de traduction officielle.............................................\nEdition des conventions internationales................................\nEdition des annonces légales, judiciaires et administratives...\nEdition des annonces relatives à l’immatriculation foncière..\n250 DH\n150 DH\n150 DH\n250 DH\n250 DH\n400 DH\n200 DH\n200 DH\n300 DH\n300 DH\nA destination de l’étranger, \npar voies ordinaire, aérienne \nou de la poste rapide interna­\ntionale, les tarifs prévus ci-\ncontre sont majorés des frais \nd’envoi, tels qu’ils sont fixés \npa\n",
          "output_type": "stream"
        }
      ],
      "execution_count": null
    },
    {
      "cell_type": "code",
      "source": [
        "pdf_names = []\n",
        "for name, content in pdf_texts:\n",
        "    pdf_names.append(\"/pdfs/\"+name)\n"
      ],
      "metadata": {
        "trusted": true,
        "execution": {
          "iopub.status.busy": "2025-07-27T14:43:39.277384Z",
          "iopub.execute_input": "2025-07-27T14:43:39.277614Z",
          "iopub.status.idle": "2025-07-27T14:43:39.281457Z",
          "shell.execute_reply.started": "2025-07-27T14:43:39.277596Z",
          "shell.execute_reply": "2025-07-27T14:43:39.28065Z"
        },
        "id": "JUXcp6DWhOdx"
      },
      "outputs": [],
      "execution_count": null
    },
    {
      "cell_type": "code",
      "source": [
        "len(pdf_names)\n",
        "pdf_names"
      ],
      "metadata": {
        "trusted": true,
        "execution": {
          "iopub.status.busy": "2025-07-27T14:43:39.282483Z",
          "iopub.execute_input": "2025-07-27T14:43:39.282979Z",
          "iopub.status.idle": "2025-07-27T14:43:39.299058Z",
          "shell.execute_reply.started": "2025-07-27T14:43:39.28296Z",
          "shell.execute_reply": "2025-07-27T14:43:39.298414Z"
        },
        "id": "OBqUgPBLhOdy",
        "outputId": "92e74529-819b-4fcd-b736-07c6aa180346"
      },
      "outputs": [
        {
          "execution_count": 8,
          "output_type": "execute_result",
          "data": {
            "text/plain": "['/pdfs/BO_7336_fr.pdf',\n '/pdfs/BO_7305-bis_fr.pdf',\n '/pdfs/BO_7332_fr.pdf',\n '/pdfs/BO_7350_fr.pdf',\n '/pdfs/BO_7296_fr.pdf',\n '/pdfs/ECI_16_Fr.pdf',\n '/pdfs/ECI_12_Fr.pdf',\n '/pdfs/BO_7358_fr.pdf',\n '/pdfs/BO_7314_Fr.pdf',\n '/pdfs/BO_7404_fr.pdf',\n '/pdfs/BO_7418_fr.pdf',\n '/pdfs/BO_7388_Fr.pdf',\n '/pdfs/BO_7355-bis_fr.pdf',\n '/pdfs/BO_7366_fr.pdf',\n '/pdfs/ECI_15_Fr.pdf',\n '/pdfs/BO_7354_fr.pdf',\n '/pdfs/BO_7380_fr.pdf',\n '/pdfs/BO_7407-bis_Fr.pdf',\n '/pdfs/ECI_13_Fr.pdf',\n '/pdfs/ECI_19_Fr.pdf',\n '/pdfs/ECI_20_Fr.pdf',\n '/pdfs/BO_7376_fr.pdf',\n '/pdfs/BO_7322_fr.pdf',\n '/pdfs/BO_7410_fr.pdf',\n '/pdfs/BO_7384_fr.pdf',\n '/pdfs/ECI_14_Fr.pdf',\n '/pdfs/BO_7340_fr.pdf',\n '/pdfs/BO_7342-bis_fr.pdf',\n '/pdfs/BO_7284_Fr.pdf',\n '/pdfs/BO_7344_fr.pdf',\n '/pdfs/ECI_11_Fr.pdf',\n '/pdfs/BO_7348-bis_fr.pdf',\n '/pdfs/BO_7414_fr.pdf',\n '/pdfs/BO_7370_fr.pdf',\n '/pdfs/BO_7318_fr.pdf',\n '/pdfs/ECI_18_Fr.pdf',\n '/pdfs/BO_7288_fr.pdf',\n '/pdfs/BO_7326_fr.pdf',\n '/pdfs/BO_7396_Fr.pdf',\n '/pdfs/BO_7306_fr.pdf',\n '/pdfs/BO_7300_fr.pdf',\n '/pdfs/BO_7292_fr.pdf',\n '/pdfs/BO_7400_Fr.pdf',\n '/pdfs/ECI_17_Fr.pdf',\n '/pdfs/BO_7392_Fr.pdf',\n '/pdfs/BO_7362_fr.pdf',\n '/pdfs/BO_7280_Fr.pdf',\n '/pdfs/BO_7274_Fr.pdf',\n '/pdfs/BO_7344-bis_fr.pdf',\n '/pdfs/BO_7310_fr.pdf']"
          },
          "metadata": {}
        }
      ],
      "execution_count": null
    },
    {
      "cell_type": "markdown",
      "source": [
        "# Model data extraction"
      ],
      "metadata": {
        "id": "MH9b-8DnhOdy"
      }
    },
    {
      "cell_type": "code",
      "source": [
        "import re\n",
        "import torch\n",
        "import json\n",
        "import fitz  # PyMuPDF\n",
        "from langchain.embeddings import HuggingFaceEmbeddings\n",
        "from langchain.vectorstores import FAISS\n",
        "from langchain.text_splitter import RecursiveCharacterTextSplitter\n",
        "from transformers import pipeline, AutoTokenizer, T5ForConditionalGeneration\n",
        "\n",
        "# --- Model Initialization ---\n",
        "device = 0 if torch.cuda.is_available() else -1\n",
        "device_name = \"cuda\" if torch.cuda.is_available() else \"cpu\"\n",
        "print(f\"Using device: {device_name}\")\n",
        "\n",
        "# Initialize models\n",
        "embedding_model = HuggingFaceEmbeddings(\n",
        "    model_name=\"sentence-transformers/paraphrase-multilingual-MiniLM-L12-v2\",\n",
        "    model_kwargs={\"device\": device_name}\n",
        ")\n",
        "\n",
        "model_name = \"google/flan-t5-large\"\n",
        "tokenizer = AutoTokenizer.from_pretrained(model_name)\n",
        "model = T5ForConditionalGeneration.from_pretrained(\n",
        "    model_name,\n",
        "    device_map=\"auto\",\n",
        "    torch_dtype=torch.float16\n",
        ")\n",
        "\n",
        "generator = pipeline(\n",
        "    \"text2text-generation\",\n",
        "    model=model,\n",
        "    tokenizer=tokenizer,\n",
        "    max_length=512,\n",
        ")\n",
        "\n",
        "# --- Default Data and Rules ---\n",
        "DEFAULT_PROJECT_TEXT = \"\"\"\n",
        "The project execution plans translate our contractual and legislative requirements, Customer expectations,\n",
        "and our business processes into the way we intend to execute the Chemical Additive Plant. This Project Execution Plan describes:\n",
        "Specific actions required to set up the systems and processes for delivering the project\n",
        "Any deviations from JESA's core business processes, as defined in the Management System, required for this project.\n",
        "This document aligns with Life - our safety and wellbeing approach.\n",
        "\n",
        "Project Outline:\n",
        "The Customer is NOVADDIX, subsidiary of INNOVX, a new entity dedicated to product and commercialize Chemical additives.\n",
        "The project is based on a technology developed by UMP6P (Mr BENHIDA & Mr MAKAN) and the process has been tested in a pilot plant at Jorf Lasfar with a capacity of 5T/Week.\n",
        "The project will be developed to construct a chemical additives plant able to produce a capacity of 20000 T/Y and 75 T/D with the following aspect:\n",
        "Domain: Industrial - Chemical.\n",
        "Product Class: Flammable and Toxic Products.\n",
        "\"\"\"\n",
        "\n",
        "# --- Inference Rules ---\n",
        "inference_rules = {\n",
        "    \"sector\": {\n",
        "        \"patterns\": [\"sector\", \"domain\"],\n",
        "        \"extract\": r\"Domain:\\s*(.*?)[.\\n]\",\n",
        "        \"clean\": lambda x: x.strip()\n",
        "    },\n",
        "    \"customer\": {\n",
        "        \"patterns\": [\"customer\", \"client\", \"sponsor\"],\n",
        "        \"extract\": r\"The Customer is\\s*(.*?)[,.\\n]\",\n",
        "        \"clean\": lambda x: x.strip()\n",
        "    },\n",
        "    \"technology\": {\n",
        "        \"patterns\": [\"technology\"],\n",
        "        \"extract\": r\"technology developed by\\s*(.*?)\\s*(and|\\.|,|\\n)\",\n",
        "        \"clean\": lambda x: re.sub(r\"\\([^)]*\\)\", \"\", x).strip()\n",
        "    },\n",
        "    \"duration\": {\n",
        "        \"patterns\": [\"duration\", \"timeline\"],\n",
        "        \"infer\": lambda text: \"2-3 years (estimated from capacity scaling 5T/week → 75T/day)\"\n",
        "        if \"pilot\" in text.lower() else \"Duration not specified\"\n",
        "    },\n",
        "    \"safety\": {\n",
        "        \"patterns\": [\"safety\", \"concern\"],\n",
        "        \"infer\": lambda text: \"High risk: Requires special handling for flammable and toxic materials\"\n",
        "        if (\"flammable\" in text.lower() and \"toxic\" in text.lower())\n",
        "        else \"Safety concerns not specified\"\n",
        "    },\n",
        "    \"location\": {\n",
        "        \"patterns\": [\"location\", \"pilot plant\"],\n",
        "        \"extract\": r\"pilot plant at\\s*(.*?)\\s*(with|\\.|,|\\n)\",\n",
        "        \"clean\": lambda x: x.strip()\n",
        "    },\n",
        "    \"capacity\": {\n",
        "        \"patterns\": [\"production capacity\", \"capacity\"],\n",
        "        \"extract\": r\"produce a capacity of\\s*(.*?)\\s*(with|\\.|,|\\n)\",\n",
        "        \"clean\": lambda x: x.strip()\n",
        "    }\n",
        "}\n",
        "\n",
        "# --- Core Functions ---\n",
        "def build_vector_store(texts):\n",
        "    \"\"\"Builds a FAISS vector store from texts\"\"\"\n",
        "    if not texts:\n",
        "        print(\"No texts provided to build vector store.\")\n",
        "        return None\n",
        "\n",
        "    text_splitter = RecursiveCharacterTextSplitter(\n",
        "        chunk_size=768,  # Réduit pour éviter les erreurs de token\n",
        "        chunk_overlap=96,\n",
        "        length_function=len,\n",
        "        separators=[\"\\n\\n\", \"\\n\", \". \", \" \", \"\"]\n",
        "    )\n",
        "    chunks = text_splitter.create_documents(texts)\n",
        "    print(f\"Created {len(chunks)} chunks for the vector store.\")\n",
        "    return FAISS.from_documents(chunks, embedding_model)\n",
        "\n",
        "def clean_rag_answer(answer, question):\n",
        "    \"\"\"Nettoie les réponses RAG en fonction du type de question\"\"\"\n",
        "    # Détection des questions sur les seuils d'émission\n",
        "    if \"seuil d'émission\" in question.lower():\n",
        "        # Regex pour extraire spécifiquement les valeurs de seuils\n",
        "        pattern = r\"(\\d+[\\s\\u00A0]*[\\u00B5mg]?g?/?m³?|mg/Nm³)\"\n",
        "        matches = re.findall(pattern, answer)\n",
        "        if matches:\n",
        "            return \" | \".join(set(matches))  # Valeurs uniques\n",
        "\n",
        "        # Vérification des seuils d'information vs émission\n",
        "        if \"μg/m³\" in answer or \"µg/m³\" in answer:\n",
        "            return \"[ERREUR] Ceci semble être un seuil de qualité d'air, non d'émission industriel\"\n",
        "\n",
        "    # Correction spécifique pour CO vs CO₂\n",
        "    if \"CO₂\" in question and \"monoxyde\" in answer:\n",
        "        answer = answer.replace(\"monoxyde\", \"dioxyde\").replace(\"CO\", \"CO₂\")\n",
        "\n",
        "    # Réduction des réponses trop longues\n",
        "    if len(answer) > 300:\n",
        "        sentences = answer.split('.')\n",
        "        key_sentences = [s for s in sentences if any(kw in s for kw in [\"limite\", \"seuil\", \"valeur\", \"autorisation\"])]\n",
        "        return '. '.join(key_sentences[:3]) + '.' if key_sentences else '. '.join(sentences[:3]) + '...'\n",
        "\n",
        "    return answer\n",
        "\n",
        "def rag_query(question, vector_store, k=8):\n",
        "    \"\"\"\n",
        "    Performs contextual search using RAG model with improved prompts\n",
        "    \"\"\"\n",
        "    # Détection des sujets non couverts\n",
        "    UNCOVERED_TOPICS = {\n",
        "        \"rejets liquides\": \"documents couvrent uniquement les émissions atmosphériques\",\n",
        "        \"eaux usées\": \"documents couvrent uniquement les émissions atmosphériques\",\n",
        "        \"bruit\": \"aucune donnée dans les documents fournis\",\n",
        "        \"zones protégées\": \"information non disponible dans les documents\"\n",
        "    }\n",
        "\n",
        "    for topic, msg in UNCOVERED_TOPICS.items():\n",
        "        if topic in question.lower():\n",
        "            return f\"Aucune information pertinente ({msg})\"\n",
        "\n",
        "    if not vector_store:\n",
        "        return \"Vector store not available.\"\n",
        "\n",
        "    docs = vector_store.similarity_search(question, k=k)\n",
        "    context = \"\\n\\n\".join([doc.page_content for doc in docs])\n",
        "\n",
        "    # Prompt amélioré avec instructions strictes\n",
        "    prompt = f\"\"\"\n",
        "    En te basant STRICTEMENT sur le contexte ci-dessous :\n",
        "    1. Réponds EXCLUSIVEMENT à la question posée\n",
        "    2. Pour les valeurs numériques : donne UNIQUEMENT la valeur et l'unité\n",
        "    3. Si la question concerne les ÉMISSIONS INDUSTRIELLES, ignore les seuils de qualité d'air\n",
        "    4. Si l'information est absente : \"Aucune information pertinente\"\n",
        "\n",
        "    Contexte:\n",
        "    {context}\n",
        "\n",
        "    Question: {question}\n",
        "    Réponse concise:\n",
        "    \"\"\"\n",
        "\n",
        "    raw_answer = generator(prompt, max_length=256)[0]['generated_text'].strip()\n",
        "\n",
        "    # Appliquer le nettoyage\n",
        "    return clean_rag_answer(raw_answer, question)\n",
        "\n",
        "def extract_text_from_pdf_file(file_path):\n",
        "    \"\"\"Extracts text from PDF with error handling and natural ordering\"\"\"\n",
        "    try:\n",
        "        doc = fitz.open(file_path)\n",
        "        text = []\n",
        "        for page in doc:\n",
        "            text.append(page.get_text(\"text\", sort=True))  # Tri pour ordre naturel\n",
        "        doc.close()\n",
        "        return \"\\n\".join(text)\n",
        "    except Exception as e:\n",
        "        print(f\"Error reading PDF {file_path}: {e}\")\n",
        "        return \"\"\n",
        "\n",
        "def get_enhanced_answer(question, context):\n",
        "    \"\"\"\n",
        "    Gets answer with improved fallback mechanism\n",
        "    \"\"\"\n",
        "    # Rule-based extraction first\n",
        "    for key, rule in inference_rules.items():\n",
        "        if any(pattern in question.lower() for pattern in rule[\"patterns\"]):\n",
        "            if \"extract\" in rule:\n",
        "                match = re.search(rule[\"extract\"], context, re.IGNORECASE)\n",
        "                if match:\n",
        "                    answer = match.group(1)\n",
        "                    return rule.get(\"clean\", lambda x: x)(answer)\n",
        "            if \"infer\" in rule:\n",
        "                return rule[\"infer\"](context)\n",
        "\n",
        "    # Fallback to generator with strict instructions\n",
        "    prompt = f\"\"\"\n",
        "    Réponds à la question en utilisant uniquement le contexte fourni.\n",
        "    Si l'information n'est pas dans le contexte, réponds \"Information non trouvée\".\n",
        "    Important :donner moi les sources .\n",
        "    Contexte:\n",
        "    {context}\n",
        "\n",
        "    Question: {question}\n",
        "    Réponse:\n",
        "    \"\"\"\n",
        "\n",
        "    return generator(prompt, max_length=256)[0]['generated_text'].strip()\n",
        "\n",
        "def analyze_project_local_multiple_pdfs(project_text=DEFAULT_PROJECT_TEXT, pdf_paths=[]):\n",
        "    \"\"\"\n",
        "    Main analysis function with enhanced processing\n",
        "    \"\"\"\n",
        "    results = {\"Project Text\": {}, \"Regulatory\": {}}\n",
        "\n",
        "    # 1. Process project description\n",
        "    print(\"--- Analyzing Project Text ---\")\n",
        "    project_questions = [\n",
        "        \"What is the sector of the project?\",\n",
        "        \"Where is the pilot plant located?\",\n",
        "        \"What technology is the project based on?\",\n",
        "        \"What is the estimated duration of the project?\",\n",
        "        \"Who is the Customer?\",\n",
        "        \"What are the safety concerns?\",\n",
        "        \"What is the production capacity?\" ,\n",
        "        \"What is the main purpose of the Commitment Register?\",\n",
        "        \"What is the definition of a commitment and how is it managed?\",\n",
        "        \"What are the responsibilities when initiating and customizing the Commitment Register?\",\n",
        "        \"What is the role of the Project Manager in maintaining the register?\",\n",
        "        \"How is the technical review of the Commitment Register performed?\",\n",
        "        \"Who are the members of the Sustainability Steering Committee?\",\n",
        "        \"What are the references mentioned in the Commitment Register document?\",\n",
        "        \"What are the abbreviations and their meanings listed in the Commitment Register?\"\n",
        "\n",
        "\n",
        "\n",
        "    ]\n",
        "\n",
        "    for question in project_questions:\n",
        "        answer = get_enhanced_answer(question, project_text)\n",
        "        results[\"Project Text\"][question] = answer\n",
        "        print(f\"Q: {question}\\nA: {answer}\\n\")\n",
        "\n",
        "    # 2. Process regulatory documents\n",
        "    print(\"--- Analyzing Regulatory PDFs ---\")\n",
        "    regulatory_texts = []\n",
        "    valid_pdf_paths = []\n",
        "\n",
        "    for pdf_path in pdf_paths:\n",
        "        print(f\"Processing: {pdf_path}\")\n",
        "        text = extract_text_from_pdf_file(pdf_path)\n",
        "        if text:  # Skip empty texts\n",
        "            regulatory_texts.append(text)\n",
        "            valid_pdf_paths.append(pdf_path)\n",
        "\n",
        "    vector_store = build_vector_store(regulatory_texts) if regulatory_texts else None\n",
        "\n",
        "    # 3. Regulatory questions with domain-aware filtering\n",
        "    law_questions = [\n",
        "        \"Quelles sont les autorisations nécessaires pour ce type de projet ?\",\n",
        "        \"Quelles sont les règles environnementales à respecter ?\",\n",
        "        \"Quelles sont les contraintes légales spécifiques au secteur ?\",\n",
        "        \"Quels documents doivent être fournis pour la conformité réglementaire ?\",\n",
        "        # \"Quel est le seuil d'émission autorisé pour le CO₂ dans ce type de projet ?\",\n",
        "        # \"Quel est le seuil d'émission autorisé pour le SO₂ dans ce type d'installation ?\",\n",
        "        # \"Quels sont les niveaux maximums admissibles pour les rejets liquides ?\",\n",
        "        # \"Existe-t-il des restrictions concernant le rejet des eaux usées ?\",\n",
        "        # \"Y a-t-il des exigences sur la gestion des déchets industriels dangereux ?\",\n",
        "        # \"Quels équipements de contrôle de pollution doivent être installés ?\",\n",
        "        # \"Ce projet est-il soumis à une étude d’impact environnemental obligatoire ?\",\n",
        "        # \"Quels sont les seuils de bruit autorisés pour les installations industrielles ?\",\n",
        "        # \"Y a-t-il des zones protégées ou sensibles à proximité du site ?\",\n",
        "        # \"Quels sont les protocoles de sécurité obligatoires pour les produits toxiques et inflammables ?\",\n",
        "        # \"Quelles obligations de suivi et de reporting environnemental sont requises ?\",\n",
        "        # \"Existe-t-il des lois spécifiques au Maroc concernant les produits chimiques industriels ?\",\n",
        "    ]\n",
        "\n",
        "    print(\"\\n--- Answering Regulatory Questions with RAG ---\")\n",
        "    for question in law_questions:\n",
        "        if vector_store:\n",
        "            answer = rag_query(question, vector_store, k=8)\n",
        "        else:\n",
        "            answer = \"Aucun document réglementaire valide fourni\"\n",
        "\n",
        "        results[\"Regulatory\"][question] = answer\n",
        "        print(f\"Q: {question}\\nA: {answer}\\n\")\n",
        "\n",
        "    # 4. Document processing summary\n",
        "    results[\"Processed Documents\"] = {\n",
        "        \"Project Text Processed\": True,\n",
        "        \"Regulatory PDFs Succeeded\": valid_pdf_paths,\n",
        "        \"Regulatory PDFs Failed\": [pdf for pdf in pdf_paths if pdf not in valid_pdf_paths]\n",
        "    }\n",
        "\n",
        "    return results\n",
        "\n",
        "# --- Main Execution ---\n",
        "if __name__ == \"__main__\":\n",
        "    pdf_files = pdf_names\n",
        "\n",
        "\n",
        "    final_results = analyze_project_local_multiple_pdfs(pdf_paths=pdf_files)\n",
        "\n",
        "    print(\"\\n\\n--- FINAL RESULTS ---\")\n",
        "    print(json.dumps(final_results, indent=2, ensure_ascii=False))"
      ],
      "metadata": {
        "trusted": true,
        "execution": {
          "iopub.status.busy": "2025-07-27T14:53:20.041511Z",
          "iopub.execute_input": "2025-07-27T14:53:20.041829Z",
          "iopub.status.idle": "2025-07-27T14:57:34.920986Z",
          "shell.execute_reply.started": "2025-07-27T14:53:20.041809Z",
          "shell.execute_reply": "2025-07-27T14:57:34.920236Z"
        },
        "id": "VijSzqU5hOdz",
        "outputId": "a4f30140-ed31-4e09-fac2-885ac5db9c92"
      },
      "outputs": [
        {
          "name": "stdout",
          "text": "Using device: cuda\n",
          "output_type": "stream"
        },
        {
          "name": "stderr",
          "text": "Device set to use cuda:0\n",
          "output_type": "stream"
        },
        {
          "name": "stdout",
          "text": "--- Analyzing Project Text ---\nQ: What is the sector of the project?\nA: Industrial - Chemical\n\nQ: Where is the pilot plant located?\nA: Jorf Lasfar\n\nQ: What technology is the project based on?\nA: UMP6P\n\nQ: What is the estimated duration of the project?\nA: 2-3 years (estimated from capacity scaling 5T/week → 75T/day)\n\nQ: Who is the Customer?\nA: NOVADDIX\n\nQ: What are the safety concerns?\nA: High risk: Requires special handling for flammable and toxic materials\n\nQ: What is the production capacity?\nA: 20000 T/Y and 75 T/D\n\nQ: What is the main purpose of the Commitment Register?\nA: Information non trouvée\n\nQ: What is the definition of a commitment and how is it managed?\nA: Specific actions required to set up the systems and processes for delivering the project Any deviations from JESA's core business processes, as defined in the Management System, required for this project\n\nQ: What are the responsibilities when initiating and customizing the Commitment Register?\nA: Specific actions required to set up the systems and processes for delivering the project Any deviations from JESA's core business processes, as defined in the Management System, required for this project\n\nQ: What is the role of the Project Manager in maintaining the register?\nA: Specific actions required to set up the systems and processes for delivering the project Any deviations from JESA's core business processes, as defined in the Management System, required for this project\n\nQ: How is the technical review of the Commitment Register performed?\nA: Information non trouvée\n\nQ: Who are the members of the Sustainability Steering Committee?\nA: Information non trouvée\n\nQ: What are the references mentioned in the Commitment Register document?\nA: Specific actions required to set up the systems and processes for delivering the project Any deviations from JESA's core business processes, as defined in the Management System, required for this project. This document aligns with Life - our safety and wellbeing approach. Project Outline: The Customer is NOVADDIX, subsidiary of INNOVX, a new entity dedicated to product and commercialize Chemical additives. The project is based on a technology developed by UMP6P (Mr BENHIDA & Mr MAKAN) and the process has been tested in a pilot plant at Jorf Lasfar with a capacity of 5T/Week. The project will be developed to construct a chemical additives plant able to produce a capacity of 20000 T/Y and 75 T/D with the aspect: Domain: Industrial - Chemical. Product Class: Flammable and Toxic Products.\n\nQ: What are the abbreviations and their meanings listed in the Commitment Register?\nA: Information non trouvée\n\n--- Analyzing Regulatory PDFs ---\nProcessing: /pdfs/BO_7336_fr.pdf\nProcessing: /pdfs/BO_7305-bis_fr.pdf\nProcessing: /pdfs/BO_7332_fr.pdf\nProcessing: /pdfs/BO_7350_fr.pdf\nProcessing: /pdfs/BO_7296_fr.pdf\nProcessing: /pdfs/ECI_16_Fr.pdf\nProcessing: /pdfs/ECI_12_Fr.pdf\nProcessing: /pdfs/BO_7358_fr.pdf\nProcessing: /pdfs/BO_7314_Fr.pdf\nProcessing: /pdfs/BO_7404_fr.pdf\nProcessing: /pdfs/BO_7418_fr.pdf\nProcessing: /pdfs/BO_7388_Fr.pdf\nProcessing: /pdfs/BO_7355-bis_fr.pdf\nProcessing: /pdfs/BO_7366_fr.pdf\nProcessing: /pdfs/ECI_15_Fr.pdf\nProcessing: /pdfs/BO_7354_fr.pdf\nProcessing: /pdfs/BO_7380_fr.pdf\nProcessing: /pdfs/BO_7407-bis_Fr.pdf\nProcessing: /pdfs/ECI_13_Fr.pdf\nProcessing: /pdfs/ECI_19_Fr.pdf\nProcessing: /pdfs/ECI_20_Fr.pdf\nProcessing: /pdfs/BO_7376_fr.pdf\nProcessing: /pdfs/BO_7322_fr.pdf\nProcessing: /pdfs/BO_7410_fr.pdf\nProcessing: /pdfs/BO_7384_fr.pdf\nProcessing: /pdfs/ECI_14_Fr.pdf\nProcessing: /pdfs/BO_7340_fr.pdf\nProcessing: /pdfs/BO_7342-bis_fr.pdf\nProcessing: /pdfs/BO_7284_Fr.pdf\nProcessing: /pdfs/BO_7344_fr.pdf\nProcessing: /pdfs/ECI_11_Fr.pdf\nProcessing: /pdfs/BO_7348-bis_fr.pdf\nProcessing: /pdfs/BO_7414_fr.pdf\nProcessing: /pdfs/BO_7370_fr.pdf\nProcessing: /pdfs/BO_7318_fr.pdf\nProcessing: /pdfs/ECI_18_Fr.pdf\nProcessing: /pdfs/BO_7288_fr.pdf\nProcessing: /pdfs/BO_7326_fr.pdf\nProcessing: /pdfs/BO_7396_Fr.pdf\nProcessing: /pdfs/BO_7306_fr.pdf\nProcessing: /pdfs/BO_7300_fr.pdf\nProcessing: /pdfs/BO_7292_fr.pdf\nProcessing: /pdfs/BO_7400_Fr.pdf\nProcessing: /pdfs/ECI_17_Fr.pdf\nProcessing: /pdfs/BO_7392_Fr.pdf\nProcessing: /pdfs/BO_7362_fr.pdf\nProcessing: /pdfs/BO_7280_Fr.pdf\nProcessing: /pdfs/BO_7274_Fr.pdf\nProcessing: /pdfs/BO_7344-bis_fr.pdf\nProcessing: /pdfs/BO_7310_fr.pdf\nCreated 59161 chunks for the vector store.\n",
          "output_type": "stream"
        },
        {
          "name": "stderr",
          "text": "Token indices sequence length is longer than the specified maximum sequence length for this model (703 > 512). Running this sequence through the model will result in indexing errors\n",
          "output_type": "stream"
        },
        {
          "name": "stdout",
          "text": "\n--- Answering Regulatory Questions with RAG ---\nQ: Quelles sont les autorisations nécessaires pour ce type de projet ?\nA:  No 7404 – 17 kaada 1446 (15-5-2025) BULLETIN OFFICIEL 615 ou peut doit inclu pouvant proposé collations l’établissement » Autorisations d’acquisition et construction d’immeubles : sur demande de certains mutuelles, l’Autorité a accordé les autorisations suivantes : .  Une autorisation pour la construction du siège d’une uvre sociale ; .  Une autorisation pour la reconstruction d’un local pour une délégation régionale ; .\n\n",
          "output_type": "stream"
        },
        {
          "name": "stderr",
          "text": "You seem to be using the pipelines sequentially on GPU. In order to maximize efficiency please use a dataset\n",
          "output_type": "stream"
        },
        {
          "name": "stdout",
          "text": "Q: Quelles sont les règles environnementales à respecter ?\nA: Article 13 : Règles afférentes aux émissions de santé L’Operateur s’engage à respecter les dispositions légales et règlementaires en vigueur, notamment les décisions et recommandations du Conseil Supérieur relatives aux programmes traitant de la santé\n\nQ: Quelles sont les contraintes légales spécifiques au secteur ?\nA:  législationles par nombre la d'une prévue, des et en d'entretien de en et exploiterpar ou de l'autorisation de l'exploitation du terrain (Art.\n\nQ: Quels documents doivent être fournis pour la conformité réglementaire ?\nA: à et sur doivent de de être équipements réglementation à et sur doivent de de be équipements réglementation dispositions norme et respecter transats, doivent Dans doivent doit à en le l'établissement l'établissement réglementation être les en marche.  législationles les cette la de d'une prévue, de d'entretien l'établissement l'établissement réglementation être de marche...\n\n\n\n--- FINAL RESULTS ---\n{\n  \"Project Text\": {\n    \"What is the sector of the project?\": \"Industrial - Chemical\",\n    \"Where is the pilot plant located?\": \"Jorf Lasfar\",\n    \"What technology is the project based on?\": \"UMP6P\",\n    \"What is the estimated duration of the project?\": \"2-3 years (estimated from capacity scaling 5T/week → 75T/day)\",\n    \"Who is the Customer?\": \"NOVADDIX\",\n    \"What are the safety concerns?\": \"High risk: Requires special handling for flammable and toxic materials\",\n    \"What is the production capacity?\": \"20000 T/Y and 75 T/D\",\n    \"What is the main purpose of the Commitment Register?\": \"Information non trouvée\",\n    \"What is the definition of a commitment and how is it managed?\": \"Specific actions required to set up the systems and processes for delivering the project Any deviations from JESA's core business processes, as defined in the Management System, required for this project\",\n    \"What are the responsibilities when initiating and customizing the Commitment Register?\": \"Specific actions required to set up the systems and processes for delivering the project Any deviations from JESA's core business processes, as defined in the Management System, required for this project\",\n    \"What is the role of the Project Manager in maintaining the register?\": \"Specific actions required to set up the systems and processes for delivering the project Any deviations from JESA's core business processes, as defined in the Management System, required for this project\",\n    \"How is the technical review of the Commitment Register performed?\": \"Information non trouvée\",\n    \"Who are the members of the Sustainability Steering Committee?\": \"Information non trouvée\",\n    \"What are the references mentioned in the Commitment Register document?\": \"Specific actions required to set up the systems and processes for delivering the project Any deviations from JESA's core business processes, as defined in the Management System, required for this project. This document aligns with Life - our safety and wellbeing approach. Project Outline: The Customer is NOVADDIX, subsidiary of INNOVX, a new entity dedicated to product and commercialize Chemical additives. The project is based on a technology developed by UMP6P (Mr BENHIDA & Mr MAKAN) and the process has been tested in a pilot plant at Jorf Lasfar with a capacity of 5T/Week. The project will be developed to construct a chemical additives plant able to produce a capacity of 20000 T/Y and 75 T/D with the aspect: Domain: Industrial - Chemical. Product Class: Flammable and Toxic Products.\",\n    \"What are the abbreviations and their meanings listed in the Commitment Register?\": \"Information non trouvée\"\n  },\n  \"Regulatory\": {\n    \"Quelles sont les autorisations nécessaires pour ce type de projet ?\": \" No 7404 – 17 kaada 1446 (15-5-2025) BULLETIN OFFICIEL 615 ou peut doit inclu pouvant proposé collations l’établissement » Autorisations d’acquisition et construction d’immeubles : sur demande de certains mutuelles, l’Autorité a accordé les autorisations suivantes : .  Une autorisation pour la construction du siège d’une uvre sociale ; .  Une autorisation pour la reconstruction d’un local pour une délégation régionale ; .\",\n    \"Quelles sont les règles environnementales à respecter ?\": \"Article 13 : Règles afférentes aux émissions de santé L’Operateur s’engage à respecter les dispositions légales et règlementaires en vigueur, notamment les décisions et recommandations du Conseil Supérieur relatives aux programmes traitant de la santé\",\n    \"Quelles sont les contraintes légales spécifiques au secteur ?\": \" législationles par nombre la d'une prévue, des et en d'entretien de en et exploiterpar ou de l'autorisation de l'exploitation du terrain (Art.\",\n    \"Quels documents doivent être fournis pour la conformité réglementaire ?\": \"à et sur doivent de de être équipements réglementation à et sur doivent de de be équipements réglementation dispositions norme et respecter transats, doivent Dans doivent doit à en le l'établissement l'établissement réglementation être les en marche.  législationles les cette la de d'une prévue, de d'entretien l'établissement l'établissement réglementation être de marche...\"\n  },\n  \"Processed Documents\": {\n    \"Project Text Processed\": true,\n    \"Regulatory PDFs Succeeded\": [\n      \"/pdfs/BO_7336_fr.pdf\",\n      \"/pdfs/BO_7305-bis_fr.pdf\",\n      \"/pdfs/BO_7332_fr.pdf\",\n      \"/pdfs/BO_7350_fr.pdf\",\n      \"/pdfs/BO_7296_fr.pdf\",\n      \"/pdfs/ECI_16_Fr.pdf\",\n      \"/pdfs/ECI_12_Fr.pdf\",\n      \"/pdfs/BO_7358_fr.pdf\",\n      \"/pdfs/BO_7314_Fr.pdf\",\n      \"/pdfs/BO_7404_fr.pdf\",\n      \"/pdfs/BO_7418_fr.pdf\",\n      \"/pdfs/BO_7388_Fr.pdf\",\n      \"/pdfs/BO_7355-bis_fr.pdf\",\n      \"/pdfs/BO_7366_fr.pdf\",\n      \"/pdfs/ECI_15_Fr.pdf\",\n      \"/pdfs/BO_7354_fr.pdf\",\n      \"/pdfs/BO_7380_fr.pdf\",\n      \"/pdfs/BO_7407-bis_Fr.pdf\",\n      \"/pdfs/ECI_13_Fr.pdf\",\n      \"/pdfs/ECI_19_Fr.pdf\",\n      \"/pdfs/ECI_20_Fr.pdf\",\n      \"/pdfs/BO_7376_fr.pdf\",\n      \"/pdfs/BO_7322_fr.pdf\",\n      \"/pdfs/BO_7410_fr.pdf\",\n      \"/pdfs/BO_7384_fr.pdf\",\n      \"/pdfs/ECI_14_Fr.pdf\",\n      \"/pdfs/BO_7340_fr.pdf\",\n      \"/pdfs/BO_7342-bis_fr.pdf\",\n      \"/pdfs/BO_7284_Fr.pdf\",\n      \"/pdfs/BO_7344_fr.pdf\",\n      \"/pdfs/ECI_11_Fr.pdf\",\n      \"/pdfs/BO_7348-bis_fr.pdf\",\n      \"/pdfs/BO_7414_fr.pdf\",\n      \"/pdfs/BO_7370_fr.pdf\",\n      \"/pdfs/BO_7318_fr.pdf\",\n      \"/pdfs/ECI_18_Fr.pdf\",\n      \"/pdfs/BO_7288_fr.pdf\",\n      \"/pdfs/BO_7326_fr.pdf\",\n      \"/pdfs/BO_7396_Fr.pdf\",\n      \"/pdfs/BO_7306_fr.pdf\",\n      \"/pdfs/BO_7300_fr.pdf\",\n      \"/pdfs/BO_7292_fr.pdf\",\n      \"/pdfs/BO_7400_Fr.pdf\",\n      \"/pdfs/ECI_17_Fr.pdf\",\n      \"/pdfs/BO_7392_Fr.pdf\",\n      \"/pdfs/BO_7362_fr.pdf\",\n      \"/pdfs/BO_7280_Fr.pdf\",\n      \"/pdfs/BO_7274_Fr.pdf\",\n      \"/pdfs/BO_7344-bis_fr.pdf\",\n      \"/pdfs/BO_7310_fr.pdf\"\n    ],\n    \"Regulatory PDFs Failed\": []\n  }\n}\n",
          "output_type": "stream"
        }
      ],
      "execution_count": null
    },
    {
      "cell_type": "code",
      "source": [],
      "metadata": {
        "trusted": true,
        "id": "hOneo3SBhOd0"
      },
      "outputs": [],
      "execution_count": null
    },
    {
      "cell_type": "code",
      "source": [],
      "metadata": {
        "trusted": true,
        "id": "iGlD97GOhOd0"
      },
      "outputs": [],
      "execution_count": null
    },
    {
      "cell_type": "code",
      "source": [],
      "metadata": {
        "trusted": true,
        "id": "EClPm-5uhOd0"
      },
      "outputs": [],
      "execution_count": null
    },
    {
      "cell_type": "code",
      "source": [],
      "metadata": {
        "trusted": true,
        "id": "fUrtaToShOd0"
      },
      "outputs": [],
      "execution_count": null
    },
    {
      "cell_type": "code",
      "source": [],
      "metadata": {
        "trusted": true,
        "id": "POWqtunIhOd0"
      },
      "outputs": [],
      "execution_count": null
    }
  ]
}